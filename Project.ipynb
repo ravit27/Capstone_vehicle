{
 "cells": [
  {
   "cell_type": "code",
   "execution_count": 1,
   "metadata": {},
   "outputs": [],
   "source": [
    "from pyeasyga import pyeasyga\n",
    "from sumolib import checkBinary\n",
    "import xml.etree.ElementTree as ET\n",
    "import traci\n",
    "import sys"
   ]
  },
  {
   "cell_type": "code",
   "execution_count": 2,
   "metadata": {},
   "outputs": [],
   "source": [
    "def simulate(program):\n",
    "    traci.start([checkBinary(program), \"-c\", \"sumo/light.sumocfg\", \"--tripinfo-output\", \"sumo/tripinfo.xml\"])\n",
    "    \n",
    "    while traci.simulation.getMinExpectedNumber() > 0:\n",
    "        traci.simulationStep()\n",
    "        \n",
    "    traci.close()\n",
    "    sys.stdout.flush()\n",
    "    \n",
    "    xmldoc = ET.parse('sumo/tripinfo.xml')\n",
    "\n",
    "    tripinfos = xmldoc.findall('tripinfo')\n",
    "\n",
    "    waitingTime = 0\n",
    "    for tripinfo in tripinfos:\n",
    "        waitingTime += float(tripinfo.get('waitingTime'))\n",
    "        \n",
    "    return waitingTime"
   ]
  },
  {
   "cell_type": "code",
   "execution_count": 3,
   "metadata": {},
   "outputs": [],
   "source": [
    "def display(phenotype):\n",
    "    network = ET.parse('sumo/light.net.xml')\n",
    "    signal = network.find('tlLogic')\n",
    "    phases = signal.findall('phase')\n",
    "    \n",
    "    for i in range(4):\n",
    "        phases[i].set(\"duration\", str(phenotype[2*i]))\n",
    "        phases[i].set(\"state\", phenotype[2*i+1])\n",
    "\n",
    "    network.write(\"sumo/light.net.xml\")\n",
    "\n",
    "    return simulate('sumo-gui')"
   ]
  },
  {
   "cell_type": "code",
   "execution_count": 5,
   "metadata": {},
   "outputs": [
    {
     "data": {
      "text/plain": [
       "242.9"
      ]
     },
     "execution_count": 5,
     "metadata": {},
     "output_type": "execute_result"
    }
   ],
   "source": [
    "default = [42, 'GGGGgrrrrrGGGGgrrrrr', 3, 'yyyyyrrrrryyyyyrrrrr', 42, 'rrrrrGGGGgrrrrrGGGGg', 3, 'rrrrryyyyyrrrrryyyyy']\n",
    "display(default)"
   ]
  },
  {
   "cell_type": "code",
   "execution_count": 6,
   "metadata": {},
   "outputs": [],
   "source": [
    "data = [0] * 188\n",
    "ga = pyeasyga.GeneticAlgorithm(data)\n",
    "ga.generations =  10\n",
    "ga.population_size = 20\n",
    "\n",
    "fitnesses = []"
   ]
  },
  {
   "cell_type": "code",
   "execution_count": 7,
   "metadata": {},
   "outputs": [],
   "source": [
    "def phenotype(genotype):\n",
    "    phenotype = []\n",
    "    m = ['G', 'g', 'y', 'r']\n",
    "    \n",
    "    for j in range(4):\n",
    "        phenotype.append(int(''.join(map(str,genotype[:7])),2)) \n",
    "\n",
    "        state = genotype[7:47]\n",
    "        s = \"\"\n",
    "        for i in range(0, 20):\n",
    "            s += m[int(str(state[2*i])+str(state[2*i+1]),2)]\n",
    "        phenotype.append(s)\n",
    "\n",
    "        genotype = genotype[47:]\n",
    "    \n",
    "    return phenotype"
   ]
  },
  {
   "cell_type": "code",
   "execution_count": 8,
   "metadata": {},
   "outputs": [],
   "source": [
    "def fitness(individual, data):\n",
    "    \n",
    "    individual = phenotype(individual)\n",
    "\n",
    "    network = ET.parse('sumo/light.net.xml')\n",
    "    signal = network.find('tlLogic') \n",
    "    \n",
    "    i = 0\n",
    "    for phase in signal.iter('phase'):\n",
    "        duration = str(individual[2*i])\n",
    "        if duration == \"0\":\n",
    "             return 0\n",
    "        state = individual[2*i+1]\n",
    "        phase.set(\"duration\", duration)\n",
    "        phase.set(\"state\", state)\n",
    "        i += 1\n",
    "\n",
    "    network.write(\"sumo/light.net.xml\")\n",
    "    \n",
    "    waitingTime = simulate('sumo')\n",
    "    \n",
    "    fitnesses.append(waitingTime)\n",
    "          \n",
    "    print(waitingTime, individual)\n",
    "    \n",
    "    return 1/waitingTime\n",
    "\n",
    "ga.fitness_function = fitness"
   ]
  },
  {
   "cell_type": "code",
   "execution_count": 9,
   "metadata": {
    "scrolled": true
   },
   "outputs": [
    {
     "name": "stdout",
     "output_type": "stream",
     "text": [
      "3670.4999999999995 [44, 'grgrrGyGrygrrgGrryrg', 78, 'GGgGrgyyGyyGgygryyrG', 2, 'GygggygyygyGrrGrrggy', 65, 'gygyyyyGryGGyrGyygGr']\n",
      "8324.5 [41, 'yyyygGgyrrryyyygGrrg', 116, 'ygrGGgyGrryyrGgyygrg', 95, 'ygggggGgGgrGyyygGGrG', 90, 'yyGGgyGyggyggrGGrgGy']\n",
      "2037.0 [112, 'GGrgGrrGGryyrgggyGyy', 30, 'rGGgrgyGgrGyggggyryG', 65, 'ggGGyGGygyygGryggggr', 110, 'GyyyGygyrgggrrGGGGyy']\n",
      "565.6999999999999 [52, 'GrGggggrgyyGrgyryGyG', 96, 'GGrryyyyggGgGGrGrgGr', 50, 'yrgrrrGGGyGrrrGyrGgG', 82, 'ygyryrrGyryyGGGGyyyr']\n",
      "2417.7000000000003 [116, 'ggGyGGGggygrrrgrgGrr', 68, 'yyGGgyGgGrrrGgygyygr', 53, 'yggGyryygGrGGryGgGGg', 26, 'rgrgygyggGryrgyyrGGG']\n",
      "521.6 [1, 'yggGgGrGgrrGgGgGrrry', 83, 'grGyGyyyGgrGGgGrgGyg', 51, 'GGGygGygGgrggrGgGygy', 68, 'yrGyGygyyyggrggGryrG']\n",
      "2295.6000000000004 [85, 'ryryygryrrggGgygrrgy', 39, 'grrrgyrggygGygGyGgyG', 31, 'gyrGyrGgryGGygyrGrrg', 110, 'rgyrGgGyGGyyGyygggrG']\n",
      "4381.099999999999 [10, 'yrrrrrgGrgrGyggGgrGr', 121, 'rGgrGGGrgyrgyrryrGGG', 85, 'gyrGyggggGryyryrGggr', 62, 'gyGgrrrGGygryGyrggGr']\n",
      "3663.5 [50, 'ggrryyrygrrgrGgrrGyy', 93, 'ygyrGGGyrryGGggGrGrG', 80, 'GgrgGGryyrrrGgrrrGGr', 106, 'yryrGryyrGrgyggGgryG']\n",
      "158.0 [11, 'ryrGgGgrygGGrryGGyrG', 1, 'rgyGgggGyrGyGrGrGyyy', 22, 'gGgGryyyrGrGGyggryrr', 47, 'gGrGGyGygGgyGGyGyGGG']\n",
      "649.8 [70, 'GrGGyggGrGygGyyrGrGr', 31, 'GyyyggrgGgrGrrrGGGGy', 67, 'gyGyGyGgGGGgyGgryyGg', 68, 'GGrryrgGyyGyGGGgygyg']\n",
      "1436.4 [70, 'GrGrrgGygygrgGgrrggy', 107, 'rGgggyGggGGyrygryyyg', 39, 'rgrGgyyGrgggGyrrGGrr', 126, 'GrGGyygyygGGgrGrygrr']\n",
      "84.59999999999998 [26, 'GGrgrrrrygryyGgGyrgG', 87, 'GgGggrGGGgGryGggrGGr', 48, 'GgGgyryrgryGggggrgGG', 99, 'GyGygGrgyrGrygrryyry']\n",
      "1414.9 [82, 'gyygGyrGryGrGggrGyyy', 28, 'GggGGryyyyyryGygGyrr', 71, 'ryGgGGyygrgrGryyrGrr', 71, 'gryyGgrGgrGrygryyrrr']\n",
      "1771.9999999999998 [5, 'ygyyGyyyGGgrgGGGrryg', 114, 'GGggrGgryygrrggryGry', 14, 'gGGGygrGGygGyGrgGygr', 1, 'yrGgGGgygyGygGgyGrGG']\n",
      "1421.9 [59, 'ygyGrrrGgyggryGgyyyr', 57, 'gyrgyyyrrgrGyGGgggyg', 59, 'ggrrygggGGGgGrrGgggg', 47, 'rryGGygGGygyryyrGgyy']\n",
      "5572.4000000000015 [69, 'GyryggrggrGyrggryyyy', 76, 'GrrgryyggygrgGgygyyG', 56, 'rrrgrrrGGgrgyrryyyyG', 57, 'rgrgyyggrgrGryyyrGrg']\n",
      "2712.5 [53, 'rgrGGGGGyryGGyGyGrGG', 88, 'ygggrgrgryygyGGyrygg', 74, 'yrrgrrrrrrGGGGgrryyy', 32, 'yyGyGyGrrryygGrgyGyy']\n",
      "8645.400000000001 [75, 'ryGrGgygGyyygGrrGrGy', 6, 'rryyGggrGyyyyyryryry', 114, 'yyryGgrgyGygrgrrgGrg', 46, 'gGygygyGGrrrGrryryGG']\n",
      "84.59999999999998 [26, 'GGrgrrrrygryyGgGyrgG', 87, 'GgGggrGGGgGryGggrGGr', 48, 'GgGgyryrgryGggggrgGG', 99, 'GyGygGrgyrGrygrryyry']\n",
      "3214.6 [82, 'gyygGyrGryGrgggrGyyy', 28, 'GggGGryyyyyryGygGyrr', 71, 'ryGgGGyygrgrGryyrGrr', 71, 'gryyGgrGgrGrygryyrrr']\n",
      "521.6 [1, 'yggGgGrGgrrGgGgGrrry', 83, 'grGyGyyyGgrGGgGrgGyg', 51, 'GGGygGygGgrggrGgGygy', 68, 'yrGyGygyyyggrggGryrG']\n",
      "649.8 [70, 'GrGGyggGrGygGyyrGrGr', 31, 'GyyyggrgGgrGrrrGGGGy', 67, 'gyGyGyGgGGGgyGgryyGg', 68, 'GGrryrgGyyGyGGGgygyg']\n",
      "84.59999999999998 [26, 'GGrgrrrrygryyGgGyrgG', 87, 'GgGggrGGGgGryGggrGGr', 48, 'GgGgyryrgryGggggrgGG', 99, 'GyGygGrgyrGrygrryyry']\n",
      "84.59999999999998 [26, 'GGrgrrrrygryyGgGyrgG', 87, 'GgGggrGGGgGryGggrGGr', 48, 'GgGgyryrgryGggggrgGG', 99, 'GyGygGrgyrGrygrryyry']\n",
      "1414.9 [82, 'gyygGyrGryGrGggrGyyy', 28, 'GggGGryyyyyryGygGyrr', 71, 'ryGgGGyyGyGrrrGyrGgG', 82, 'ygyryrrGyryyGGGGyyyr']\n",
      "2014.5 [52, 'GrGggggrgyyGrgyryGyG', 96, 'GGrryyyyggGgGGrGrgGr', 50, 'yrgrrrGGgrgrGryyrGrr', 71, 'gryyGgrGgrGrygryyrrr']\n",
      "1421.9 [59, 'ygyGrrrGgyggryGgyyyr', 57, 'gyrgyyyrrgrGyGGgggyg', 59, 'ggrrygggGGGgGrrGgggg', 47, 'rryGGygGGygyryyyyyyr']\n",
      "565.6999999999999 [52, 'GrGggggrgyyGrgyryGyG', 96, 'GGrryyyyggGgGGrGrgGr', 50, 'yrgrrrGGGyGrrrGyrGgG', 82, 'ygyryrrGyryyGGGgGgyy']\n",
      "649.8 [70, 'GrGGyggGrGygGyyrGrGr', 31, 'GyyyggrgGgrGrrrGGGGy', 67, 'gyGyGyGgGGGGggggrgGG', 99, 'GyGygGrgyrGrygrryyry']\n",
      "84.59999999999998 [26, 'GGrgrrrrygryyGgGyrgG', 87, 'GgGggrGGGgGryGggrGGr', 48, 'GgGgyryrgrygyGgryyGg', 68, 'GGrryrgGyyGyGGGgygyg']\n",
      "326.90000000000003 [11, 'ryrGgGgrygGGrryGGyrG', 1, 'rgyGgggGyrGyGrGrGyyy', 22, 'gGgGryyyrGrGGyggryrr', 47, 'gGrGGrrGgrGrygryyrrr']\n",
      "1031.4 [82, 'gyygGyrGryGrGggrGyyy', 28, 'GggGGryyyyyryGygGyrr', 71, 'ryGgGGyygrgrGryyrGrr', 71, 'gryyGGGygGgyGGyGyGGG']\n",
      "649.8 [70, 'GrGGyggGrGygGyyrGrGr', 31, 'GyyyggrgGgrGrrrGGGGy', 67, 'gyGyGyGgGGGgyGgryyGg', 68, 'GGrryrgGyyGyGGGgyGyr']\n",
      "565.6999999999999 [52, 'GrGggggrgyyGrgyryGyG', 96, 'GGrryyyyggGgGGrGrgGr', 50, 'yrgrrrGGGyGrrrGyrGgG', 82, 'ygyryrrGyryyGGGGyryg']\n",
      "158.0 [11, 'ryrGgGgrygGGrryGGyrG', 1, 'rgyGgggGyrGyGrGrGyyy', 22, 'gGgGryyyrGrGGyggryrr', 47, 'gGrGGyGygGgyGGyGyGGG']\n",
      "521.6 [1, 'yggGgGrGgrrGgGgGrrry', 83, 'grGyGyyyGgrGGgGrgGyg', 51, 'GGGygGygGgrggrGgGygy', 68, 'yrGyGygyyyggrggGryrG']\n",
      "84.59999999999998 [26, 'GGrgrrrrygryyGgGyrgG', 87, 'GgGggrGGGgGryGggrGGr', 48, 'GgGgyryrgryGggggrgGG', 99, 'GyGygGrgyrGGgrGrygrr']\n",
      "1436.4 [70, 'GrGrrgGygygrgGgrrggy', 107, 'rGgggyGggGGyrygryyyg', 39, 'rgrGgyyGrgggGyrrGGrr', 126, 'GrGGyygyygGrygrryyry']\n",
      "84.59999999999998 [26, 'GGrgrrrrygryyGgGyrgG', 87, 'GgGggrGGGgGryGggrGGr', 48, 'GgGgyryrgryGggggrgGG', 99, 'GyGygGrgyrGrygrryyry']\n",
      "508.09999999999997 [1, 'yggGgGrGgrrGgGgGrrry', 83, 'grGyGyyyGgGryGggrGGr', 48, 'GgGgyryrgrygyGgryyGg', 68, 'GGrryrgGyyGyGGGgygyg']\n",
      "158.0 [11, 'ryrGgGgrygGGrryGGyrG', 1, 'rgyGgggGyrGyGrGrGyyy', 22, 'gGgGryyyrGrGGyggryrr', 47, 'gGrGGyGygGgyGGyGyGGG']\n",
      "84.59999999999998 [26, 'GGrgrrrrygryyGgGyrgG', 87, 'GgGggrGGGgGryGggrGGr', 48, 'GgGgyryrgryGggggrgGG', 99, 'GyGygGrgyrGrygrryyry']\n",
      "521.6 [1, 'yggGgGrGgrrGgGgGrrry', 83, 'grGyGyyyGgrGGgGrgGyg', 51, 'GGGygGygGgrggrGgGygy', 68, 'yrGyGygyyygyGGGgygyg']\n",
      "84.59999999999998 [26, 'GGrgrrrrygryyGgGyrgG', 87, 'GgGggrGGGgGryGggrGGr', 48, 'GgGgyryrgrygyGgryyGg', 68, 'GGrryrgGyyGgrggGryrG']\n",
      "84.59999999999998 [26, 'GGrgrrrrygryyGgGyrgG', 87, 'GgGggrGGGgGryGggrGGr', 48, 'GgGgyryrgrygyGgryyGg', 68, 'GGrryrgGyyGyGGGgygyg']\n",
      "84.59999999999998 [26, 'GGrgrrrrygryyGgGyrgG', 87, 'GgGggrGGGgGryGggrGGr', 48, 'GgGgyryrgryGggggrgGG', 99, 'GyGygGrgyrGGgrGrygrr']\n",
      "84.59999999999998 [26, 'GGrgrrrrygryyGgGyrgG', 87, 'GgGggrGGGgGryGggrGGr', 48, 'GgGgyryGGyGrrrGyrGgG', 82, 'ygyryrrGyryyGGGGyryg']\n",
      "565.6999999999999 [52, 'GrGggggrgyyGrgyryGyG', 96, 'GGrryyyyggGgGGrGrgGr', 50, 'yrgrrrGrgryGggggrgGG', 99, 'GyGygGrgyrGrygrryyry']\n",
      "84.59999999999998 [26, 'GGrgrrrrygryyGgGyrgG', 87, 'GgGggrGGGgGryGggrGGr', 48, 'GgGgyryrgryGggggrgGG', 99, 'GyGygGrgyrGrygrryyry']\n",
      "84.59999999999998 [26, 'GGrgrrrrygryyGgGyrgG', 87, 'GgGggrGGGgGryGggrGGr', 48, 'GgGgyryrgryGggggrgGG', 99, 'GyGygGrgyrGrygrryyry']\n",
      "84.59999999999998 [26, 'GGrgrrrrygryyGgGyrgG', 87, 'GgGggrGGGgGryGggrGGr', 48, 'GgGgyryrgryGggggrgGG', 99, 'GyGygGrgyrGrygrryyrr']\n",
      "326.99999999999994 [11, 'ryrGgGgrygGGrryGGyrG', 1, 'rgGGgggGyrGyGrGrGyyy', 22, 'gGgGryyyrGrGGyggryrr', 47, 'gGrGGrrGgrGrygryyrrr']\n",
      "65.3 [26, 'GGrggrrrygryyGgGyrgG', 87, 'GgGggrGGGgGryGggrGGr', 48, 'GgGgyryrgryGggggrgGG', 99, 'GyGygGrgyrGrygrryyry']\n",
      "84.59999999999998 [26, 'GGrgrrrrygryyGgGyrgG', 87, 'GgGggrGGGgGryGggrGGr', 48, 'GgGgyryrgryGggggrgGG', 115, 'GyGygGrgyrGrygrryyry']\n",
      "84.59999999999998 [26, 'GGrgrrrrygryyGgGyrgG', 87, 'GgGggrGGGgGryGggrGGr', 48, 'GgGgyryrgryGggggrgGG', 99, 'GyGygGrgyrGrygrryyry']\n",
      "84.59999999999998 [26, 'GGrgrrrrygryyGgGyrgG', 87, 'GgGggrGGGgGryGggrGGr', 48, 'GgGgyryrgryGggggrgGG', 99, 'GyGygGrgyrGGgrGrygrr']\n",
      "84.59999999999998 [26, 'GGrgrrrrygryyGgGyrgG', 87, 'GgGggrGGGgGryGggrGGr', 48, 'GgGgyryrgryGggggrgGG', 99, 'GyGygGrgyrGGgrGrygrr']\n",
      "84.59999999999998 [26, 'GGrgrrrrygryyGgGyrgG', 87, 'GgGggrGGGgGryGggrGGr', 48, 'GgGgyryrgryGggggrgGG', 99, 'GyGygGrgyrGrygrryyry']\n",
      "65.3 [26, 'GGrggrrrygryyGgGyrgG', 87, 'GgGggrGGGgGryGggrGGr', 48, 'GgGgyryrgryGggggrgGG', 99, 'GyGygGrgyrGrygrryyry']\n",
      "84.59999999999998 [26, 'GGrgrrrrygryyGgGyrgG', 87, 'GgGggrGGGgGryGggrGGr', 48, 'GgGgyryrgryGggggrgGG', 99, 'GyGygGrgyyGyGGGgygyg']\n",
      "84.59999999999998 [26, 'GGrgrrrrygryyGgGyrgG', 87, 'GgGggrGGGgGryGggrGGr', 48, 'GgGgyryrgryGggggrgGG', 99, 'GyGygGrgyrGrygrryyry']\n",
      "84.59999999999998 [26, 'GGrgrrrrygryyGgGyrgG', 87, 'GgGggrGGGgGryGggrGGr', 48, 'GgGgyryrgryGggggrgGG', 99, 'GyGygGrgyrGGgrGrygrr']\n",
      "65.3 [26, 'GGrggrrrygryyGgGyrgG', 87, 'GgGggrGGGgGryGggrGGr', 48, 'GgGgyryrgryGggggrgGG', 99, 'GyGygGrgyrGgrggGryrG']\n",
      "84.59999999999998 [26, 'GGrgrrrrygryyGgGyrgG', 87, 'GgGggrGGGgGryGggrGGr', 48, 'GgGgyryrgrygyGgryyGg', 68, 'GGrryrgGyyGrygrryyry']\n"
     ]
    },
    {
     "name": "stdout",
     "output_type": "stream",
     "text": [
      "84.59999999999998 [26, 'GGrgrrrrygryyGgGyrgG', 87, 'GgGggrGGGgGryGggrGGr', 48, 'GgGgyryrgrygyGgryyGg', 68, 'GGrryrgGyyGgrggGryry']\n",
      "65.3 [26, 'GGrggrrrygryyGgGyrgG', 87, 'GgGggrGGGgGryGggrGGr', 48, 'GgGgyryrgryGggggrgGG', 99, 'GyGygGrgyrGrygrryyrG']\n",
      "74.09999999999998 [26, 'GGrgrrrrygryyGgGyrgG', 87, 'GgGggrGGGgGryGgGrGGr', 48, 'GgGgyryrgryGggggrgGG', 99, 'GyGygGrgyrGGgrGrygrr']\n",
      "84.59999999999998 [26, 'GGrgrrrrygryyGgGyrgG', 87, 'GgGggrGGGgGryGggrGGr', 16, 'GgGgyryGGyGrrrGyrGgG', 82, 'ygyryrrGyryyGGGGyryg']\n",
      "84.59999999999998 [26, 'GGrgrrrrygryyGgGyrgG', 87, 'GgGggrGGGgGryGggrGGr', 48, 'GgGgyryrgrygyGgryyGg', 68, 'GGrryrgGyyGyGGGgygyg']\n",
      "84.59999999999998 [26, 'GGrgrrrrygryyGgGyrgG', 87, 'GgGggrGGGgGryGggrGGr', 48, 'GgGgyryGGyGrrrGyrGgG', 82, 'ygyryrrGyryyGGGGyryg']\n",
      "84.59999999999998 [26, 'GGrgrrrrygryyGgGyrgG', 87, 'GgGggrGGGgGryGggrGGr', 48, 'GgGgyryrgrygyGgryyGg', 68, 'GGrryrgGyyGgrggGryrG']\n",
      "84.59999999999998 [26, 'GGrgrrrrygryyGgGyrgG', 87, 'GgGggrGGGgGryGggrGGr', 48, 'GgGgyryrgrygyGgryyGg', 68, 'GGrryrgGyyGgrggGryrG']\n",
      "84.59999999999998 [26, 'GGrgrrrrygryyGgGyrgG', 87, 'GgGggrGGGgGryGggrGGr', 48, 'GgGgyryGGyGrrrGyrygG', 82, 'ygyryrrGyryyGGGGyryg']\n",
      "65.3 [26, 'GGrggrrrygryyGgGyrgG', 87, 'GgGggrGGGgGryGggrGGr', 48, 'GgygyryrgryGggggrgGG', 99, 'GyGygGrgyrGrygrryyry']\n",
      "84.59999999999998 [26, 'GGrgrrrrygryyGgGyrgG', 87, 'GgGggrGGGgGryGggrGGr', 48, 'GgGgyryrgrygyGgryyGg', 68, 'GGrryrgGyyGgrggGryrG']\n",
      "84.59999999999998 [26, 'GGrgrrrrygryyGgGyrgG', 87, 'GgGggrGGGgGryGggrGGr', 48, 'GgGgyryrgryGggggrgGG', 99, 'GyGygGrgyrGrygrryyrr']\n",
      "84.59999999999998 [26, 'GGrgrrrrygryyGgGyrgG', 87, 'GgGggrGGGGGryGggrGGr', 48, 'GgGgyryrgrygyGgryyGg', 68, 'GGrryrgGyyGyGGGgygyg']\n",
      "927.0 [26, 'GGrgrrrrygryyGgGyrgG', 87, 'GgGgrrGGGgGryGggrGGr', 48, 'GgGgyryrgrygyGgryyGg', 68, 'GGrryrgGyyGyGGGgygyg']\n",
      "65.3 [26, 'GGrggrrrygryyGgGyrgG', 87, 'GgGggrGGGgGryGggrGGr', 48, 'GgGgyryrgryGggggrgGG', 99, 'GyGygGrgyrGrygrryyry']\n",
      "65.3 [26, 'GGrggrrrygryyGgGyrgG', 87, 'GgGggrGGGgGryGggrGGr', 48, 'GgGgyryrgryGggggrgGG', 99, 'GyGygGrgyrGrygrryyrG']\n",
      "65.3 [26, 'GGrggrrrygryyGgGyrgG', 87, 'GgGggrGGGgGryGggrGGr', 48, 'GgGgyryrgryGggggrgGG', 99, 'GyGygGrgyrGrygrryyrG']\n",
      "65.3 [26, 'GGrggrrrygryyGgGyrgG', 87, 'GgGggrGGGgGryGggrGGr', 48, 'GgGgyryrgryGggggrgGG', 99, 'GyGygGrgyrGgrggGryrG']\n",
      "84.59999999999998 [26, 'GGrgrrrrygryyGgGyrgG', 87, 'GgGggrGGGGGryGggrGGr', 48, 'GgGgyryrgrygyGgryyGg', 68, 'GGrryrgGyryyGGGGyryg']\n",
      "84.59999999999998 [26, 'GGrgrrrrygryyGgGyrgG', 87, 'GgGggrGGGgGryGggrGGr', 48, 'GgGgyryGGyGrrrGyrGgG', 82, 'ygyryrrGyyGyGGGgygyg']\n",
      "65.3 [26, 'GGrggrrrygryyGgGyrgG', 87, 'GgGggrGGGgGryGggrGGr', 48, 'GgygyryrgryGggggrgGG', 99, 'GyGygGrgyrGrygrryyrr']\n",
      "84.59999999999998 [26, 'GGrgrrrrygryyGgGyrgG', 87, 'GgGggrGGGgGryGggrGGr', 48, 'GgGgyryrgryGggggrgGG', 99, 'GyGygGrgyrGrrggGryrG']\n",
      "74.09999999999998 [26, 'GGrgrrrrygryyGgGyrgG', 87, 'GgGggrGGGgGryGgGrGGr', 48, 'GgGgyryrgryGggggrgGG', 99, 'GyGygGrgyrGGgrGrygrr']\n",
      "65.3 [26, 'GGrggrrrygryyGgGyrgG', 87, 'GgGggrGGGgGryGggrGGr', 48, 'GgygyryrgryGggggrgGG', 99, 'GyGygGrgyrGrygrryyry']\n",
      "65.3 [26, 'GGrggrrrygryyGgGyrgG', 87, 'GgGggrGGGgGryGggrGGr', 48, 'GgGgyryrgrygyGgryyGg', 68, 'GGrryrgGyyGgrggGryrG']\n",
      "84.59999999999998 [26, 'GGrgrrrrygryyGgGyrgG', 87, 'GgGggrGGGgGryGggrGGr', 48, 'GgGgyryrgryGggggrgGG', 99, 'GyGygGrgyrGgrggGryrG']\n",
      "65.3 [26, 'GGrggrrrygryyGgGyrgG', 87, 'GgGggrGGGgGryGggrGGr', 48, 'GgygyryrgryGggggrgGG', 99, 'GyGygGrgyrGGgrGrygrr']\n",
      "74.09999999999998 [26, 'GGrgrrrrygryyGgGyrgG', 87, 'GgGggrGGGgGryGgGrGGr', 48, 'GgGgyryrgryGggggrgGG', 99, 'GyGygGrgyrGrygrryyry']\n",
      "65.3 [26, 'GGrggrrrygryyGgGyrgG', 87, 'GgGggrGGGgGryGggrGGr', 48, 'GgGgyryrgryGggrgrgGG', 99, 'GyGygGrgyrGgrggGryrG']\n",
      "65.3 [26, 'GGrggrrrygryyGgGyrgG', 87, 'GgGggrGGGgGryGggrGGr', 48, 'ggGgyryrgryGggggrgGG', 99, 'GyGygGrgyrGrygrryyry']\n",
      "84.59999999999998 [26, 'GGrgrrrrygryyGgGyrgG', 87, 'GgGggrGGGgGryGggrGGr', 48, 'GgGgyryrgryGggggrgGG', 99, 'GyGygGrgyryGgrGrygrr']\n",
      "74.19999999999999 [26, 'GGrgrrrrygryyGgGyrgG', 87, 'GgGggrgGGgGryGgGrGGr', 48, 'GgGgyryrgrygyGgryyGg', 68, 'GGrryrgGyyGgrggGryrG']\n",
      "74.09999999999998 [26, 'GGrgrrrrygryyGgGyrgG', 87, 'GgGggrGGGgGryGgGrGGr', 48, 'GgGgyryrgryGggggrgGG', 99, 'GyGygGrgyrGrygrryyrG']\n",
      "65.3 [26, 'GGrggrrrygryyGgGyrgG', 87, 'GgGggrGGGgGryGggrGGr', 48, 'GgGgyryrgryGggggrgGG', 99, 'GyGygGrgyrGGgrGrygrr']\n",
      "65.3 [26, 'GGrggrrrygryyGgGyrgG', 87, 'GgGggrGGGgGryGggrGGr', 48, 'GgGgyryrgryGggggrgGG', 99, 'GyGygGrgyrGrygrryyry']\n",
      "65.3 [26, 'GGrggrrrygryyGgGyrgG', 87, 'GgGggrGGGgGryGggrGGr', 48, 'GgGgyryrgryGggggrgGG', 99, 'GyGygGrgyrGrygrryyry']\n",
      "65.3 [26, 'GGrggrrrygryyGgGyrgG', 87, 'GgGggrGGGgGryGggrGGr', 48, 'GgygyryrgryGggggrgGG', 99, 'GyGygGrGyrGGgrGrygrr']\n",
      "65.3 [26, 'GGrggrryygryyGgGyrgG', 87, 'GgGggrGGGgGryGggrGGr', 48, 'GgygyryrgryGggggrgGG', 99, 'GyGygGrgyrGrygrryyry']\n",
      "65.3 [26, 'GGrggrrrygryyGgGyrgG', 87, 'GgGggrGGGgGryGggrGGr', 48, 'GgygyryrgryGggggrgGG', 99, 'GyGygGrgyrGgrggGryrG']\n",
      "65.3 [26, 'GGrggrrrygryyGgGyrgG', 87, 'GgGggrGGGgGryGggrGGr', 48, 'GgGgyryrgryGggggrgGG', 99, 'GyGygGrgyrGrygrryyry']\n",
      "65.3 [26, 'GGrggrrrygryyGgGyrgG', 87, 'GgGggrGGGgGryGggrGGr', 48, 'GgygyryrgryGggggrggG', 99, 'GyGygGrgyrGgrggGryrG']\n",
      "65.3 [26, 'GGrggrrrygryyGgGyrgG', 87, 'GgGggrGGGgGryGggrGGr', 48, 'GgGgyryrgryGggrgrgGG', 99, 'GyGygGrgyrGGgrGyygrr']\n",
      "65.3 [26, 'GGrggrrrygryyGgGyrgG', 87, 'GgGggrGGGgGryGggrGGr', 48, 'ggGgyryrgryGggggrgGG', 99, 'GyGygGrgyrGrygrryyry']\n",
      "65.3 [26, 'GGrggrrrygryyGgGyrgG', 87, 'GgGggrGGGgGryGggrGGr', 48, 'GgGgyryrgryGggggrgGG', 99, 'GyGygGrgyrGGgrGrygrr']\n",
      "65.3 [26, 'GGrggrrrygryyGgGyrgG', 87, 'GgGggrGGGgGryGggrGGr', 48, 'GgGgyryrgrygyGgryyGg', 68, 'GGrryrgGyyGgrggGryrG']\n",
      "65.3 [26, 'GGrggrrrygryyGgGyrgG', 87, 'GgGggrGGGgGryGggrGGr', 48, 'GgygyryrgryGggggrgGG', 99, 'GyGygGrgyrGGgrGrygrr']\n",
      "65.3 [26, 'GGrggrrrygryyGgGyrgG', 87, 'GgGggrGGGgGryGggrGGr', 48, 'GgygyryrgryGggggrgGG', 99, 'GyGygGrgyrGGgrGrryrG']\n",
      "65.3 [26, 'GGrggrrrygryyGgGyrgG', 87, 'GgGggrGGGgGryGggrGGr', 48, 'GgGgyryrgryGggrgrgGG', 99, 'GyGygGrgyrGgrggGygrr']\n",
      "65.3 [26, 'GGrggrrrygryyGgGyrgG', 87, 'GgGggrGGGgGryGggrGGr', 48, 'ggGgyryrgryGggggrgGG', 99, 'GyGygGrgyrGGgrGrygrr']\n",
      "65.3 [26, 'GGrggrrrygryyGgGyrgG', 87, 'GgGggrGGGgGryGggrGGr', 48, 'GgGgyryrgryGggggrgGG', 99, 'GyGygGrgyrGrygrryyry']\n",
      "65.3 [26, 'GGrggrrrygryyGgGyrgG', 87, 'GgGggrGGGgGryGggrGGr', 48, 'GgGgyryrgryGggggrgGG', 99, 'GygygGrgyrGrygrryyrG']\n",
      "65.3 [26, 'GGrggrrrygryyGgGyrgG', 87, 'GgGggrGGGgGryGggrGGr', 48, 'GgGgyryrgryGggrgrgGG', 99, 'GyGygGrgyrGrygrryyry']\n",
      "65.3 [26, 'GGrggrrrygryyGgGyrgG', 87, 'GgGggrGGGgGryGggrGGr', 48, 'GgGgyryrgryGggggrgGG', 99, 'GyGygGrgyrGGgrGrygrr']\n",
      "65.3 [26, 'GGrggrrrygryyGgGyrgG', 87, 'GgGggrGGGgGryGggrGGr', 48, 'GgGgyryrgryGggggrgGG', 99, 'GyGygGrgyrGGgrGrygrr']\n",
      "65.3 [26, 'GGrggrrrygryyGgGyrgG', 87, 'GgGggrGGGgGryGggrGGr', 48, 'GgGgyryrgryGggggrgGG', 99, 'GyGygGrgyrGrygrryyry']\n",
      "65.3 [26, 'GGrggrrrygryyGgGyrgG', 87, 'GgGggrGGGgGryGggrGGr', 48, 'GgGgyryrgryGggggrgGG', 99, 'GyGygGrgyrGGgrGrygrr']\n",
      "65.3 [26, 'GGrggrrrygryyGgGyrgG', 87, 'GgGggrGGGgGryGggrGGr', 48, 'GgGgyryrgrygyGgryyGg', 68, 'GGrryrgGyyGgrggGryrG']\n",
      "65.3 [26, 'GGrggrrrygryyGgGyrgG', 87, 'GgGggrGGGgGryGggrGGr', 48, 'GgGgyryrgryGggggrgGG', 99, 'GyGygGrgyrGGgrGrygrr']\n",
      "65.3 [26, 'GGrggrrrygryyGgGyrgG', 87, 'GgGggrGGGgGryGggrGGr', 48, 'GgGgyryrgryGggggrgGG', 99, 'GyGygGrgyrGrygrryyry']\n",
      "65.3 [26, 'GGrggrrrygryyGgGyrgG', 87, 'GgGggrGGGgGryGggrGGr', 48, 'GgGgyryrgryGggggrgGG', 99, 'GyGygGrgyrGrygrryyry']\n",
      "61.3 [24, 'GGrggrrrygryyGgGyrgG', 87, 'GgGggrGGGgGryGggrGGr', 48, 'GgGgyryrgryGggggrgGG', 99, 'GyGygGrgyrGGgrGrygrr']\n",
      "65.3 [26, 'GGrggrrrygryyGgGyrgG', 87, 'GgGggrGGGgGryGggrGGr', 48, 'GgGgyryrgryGggggrgGG', 107, 'GygygGrgyrGrygrryyrG']\n",
      "65.3 [26, 'GGrggrrrygryyGgGyrgG', 87, 'GgGggrGGGgGryGggrGGr', 48, 'GgygyryrgryGggggrgGG', 99, 'GyGygGrgyrGgrggGryrG']\n",
      "65.3 [26, 'GGrggrrrygryyGgGyrgG', 87, 'GgGggrGGGgGryGggrGGr', 48, 'GgygyryrgryGggggrgGG', 99, 'GyGygGrGyrGGgrGrygrr']\n",
      "65.3 [26, 'GGrggrrrygryyGgGyrgG', 87, 'GgGggrGGGgGryGggrGGr', 48, 'GgGgyryrgryGggggrgGG', 99, 'GyGygGygyrGGgrGrygrr']\n",
      "65.3 [26, 'GGrggrrrygryyGgGyrgG', 87, 'GgGggrGGGgGryGggrGGr', 48, 'GgGgyryrgryGggggrgGG', 99, 'GyGygGrgyrGGgrGryGrr']\n",
      "65.3 [26, 'GGrggrrrygryyGgGyrgG', 87, 'GgGggrGGGgGryGggrGGr', 48, 'GgygyryrgryGggggrgGG', 99, 'GyGygGrgyrGGgrGrryrG']\n",
      "65.3 [26, 'GGrggrrrygryyGgGyrgG', 87, 'GgGggrGGGgGryGggrGGr', 48, 'ggGgyryrgryGggggrgGG', 99, 'GyGygGrgyrGGgrGrygrr']\n"
     ]
    },
    {
     "name": "stdout",
     "output_type": "stream",
     "text": [
      "65.3 [26, 'GGrggrrrygryyGgGyrgG', 87, 'GgGggrGGGgGryGggrGGr', 48, 'GgygyryrgryGggggrgGG', 99, 'GyGygGrgyrGGgrGrryrG']\n",
      "65.3 [26, 'GGrggrrrygryyGgGyrgG', 87, 'GgGggrGGGgGryGggrGGr', 48, 'GgygyryrgryGggggrgGG', 99, 'GyGygGrgyrGGgrGrryrG']\n",
      "65.3 [26, 'GGrggrrrygryyGgGyrgG', 87, 'GgGggrGGGgGryGggrGGr', 48, 'GgygyryrgryGggggrgGG', 99, 'GyGygGrgyrGgrggGryrG']\n",
      "65.3 [26, 'GGrggrrrygryyGgGyrgG', 87, 'GgGggrGGGgGryGggrGGr', 48, 'GgGgyryrgryGggggrgGG', 99, 'GygygGrgyrGrygrryyrG']\n",
      "65.3 [26, 'GGrggrrrygryyGgGyrgG', 87, 'GgGggrGGGgGryGggrGGr', 48, 'GgygyryrgryGggggrgGG', 99, 'GyGygGrgyrGGgrGrygrr']\n",
      "65.3 [26, 'GGrggrrrygryyGgGyrgG', 87, 'GgGggrGGGgGryGggrGGr', 48, 'GgGgyryrgryGggggrgGG', 99, 'GyGygGrgyrGrygrryyry']\n",
      "61.3 [24, 'GGrggrrrygryyGgGyrgG', 87, 'GgGggrGGGgGryGggrGGr', 48, 'GgGgyryrgryGggggrgGG', 99, 'GyGygGrgyrGGgrGrygrr']\n",
      "65.3 [26, 'GGrggrrrygryyGgGyrgG', 87, 'GgGggrGGGgGryGggrGGr', 48, 'GgGgyryrgryGggggrgGG', 99, 'GyGygGrgyrGrygrryyry']\n",
      "65.3 [26, 'GGrggrrrygryyGgGyrgG', 87, 'GgGggrGGGgGryGggrGGr', 48, 'GgGgyryrgryGggggrgGG', 99, 'GyGygGygyrGGgrGrygrr']\n",
      "65.3 [26, 'GGrggrrrygryyGgGyrgG', 87, 'GgGggrGGGgGryGggrGGr', 48, 'GgygyryrgryGggggrgGG', 99, 'GyGygGrgyrGGgrGrryrG']\n",
      "65.3 [26, 'GGrggrrrygryyGgGyrgG', 87, 'GgGggrGGGgGryGggrGGr', 48, 'GgGgyryrgryGggggrgGG', 99, 'GyGygGrgyrGGgrGrygrr']\n",
      "61.3 [24, 'GGrggrrrygryyGgGyrgG', 87, 'GgGggrGGGgGryGggrGGr', 48, 'GgGgyryrgryGggggrgGG', 99, 'GyGygGrgyrGrygrryyry']\n",
      "65.3 [26, 'GGrggrrrygryyGgGyrgG', 87, 'GgGggrGgGgGryGggrGGr', 48, 'GgygyryrgryGggggrgGG', 99, 'GyGygGrgyrGgrggGryrG']\n",
      "65.3 [26, 'GGrggrrrygryyGgGyrgG', 87, 'GgGgggGGGgGryGggrGGr', 48, 'GgygyryrgryGggggrgGG', 99, 'GyGygGrgyrGGgrGrryrG']\n",
      "61.3 [24, 'GGrggrrrygryyGgGyrgG', 87, 'GgGggrGGGgGryGggrGGr', 48, 'GgygyryrgryGggggrgGG', 99, 'GyGygGrgyrGGgrGrygrr']\n",
      "65.3 [26, 'GGrggrrrygryyGgGyrgG', 87, 'GgGggrGGGgGryGggrGGr', 48, 'GgGgyryrgryGggggrgGG', 99, 'GyGygGrgyrGGgrGrygrr']\n",
      "61.3 [24, 'GGrggrrrygryyGgGyrgG', 87, 'GgGggrGGGgGryGggrGGr', 48, 'GgGgyryrgryGggggrgGG', 99, 'GyGygGrgyrGGgrGrygrr']\n",
      "61.3 [24, 'GGrggrrrygryyGgGyrgG', 87, 'GgGggrGGGgGryGggrGGr', 48, 'GgGgyryrgryGggggrgGG', 99, 'GyGygGrgyrGGgrGrygrr']\n",
      "65.3 [26, 'GGrggrrrygryyGgGyrgG', 87, 'GgGggrGGGgGryGggrGGr', 48, 'ggGgyryrgryGggggrgGG', 99, 'GyGygGrgyrGGgrGrygrr']\n",
      "65.3 [26, 'GGrggrrrygryyGgGyrgG', 87, 'GgGggrGGGgGryGggrGGr', 48, 'GgGgyryrgryGggggrgGG', 99, 'GygygGrgyrGrygrryyrG']\n",
      "65.3 [26, 'GGrggrrrygryyGgGyrgG', 87, 'GgGggrGGGgGryGggrGGr', 48, 'GgGgyryrgryGggggrgGG', 99, 'GyGygGrgyrGGgrGrygrr']\n",
      "61.3 [24, 'GGrggrrrygryyGgGyrgG', 87, 'GgGggrGGGgGryGggrGGr', 48, 'GgGgyryrgryGggggrgGG', 99, 'GyGygGrgyrGrygrryyry']\n",
      "61.3 [24, 'GGrggrrrygryyGgGyrgG', 87, 'GgGggrGGGgGryGggrGGr', 48, 'GgGgyryrgryGggggrgGG', 107, 'GygygGrgyrGrygrryyrG']\n",
      "65.3 [26, 'GGrggrrrygryyGgGyrgG', 87, 'GgGggrGGGgGryGggrGGr', 48, 'GgGgyryrgryGggggrgGG', 99, 'GyGygGrgyrGGgrGrygrr']\n",
      "65.3 [26, 'GGrggrrrygryyGgGyrgG', 87, 'GgGggrGGGgGryGggrGGr', 48, 'ggGgyryrgryGggggrgGG', 99, 'GyGygGrgyrGGgrGrygrr']\n",
      "65.3 [26, 'GGrggrrrygryyGgGyrgG', 87, 'GgGggrGGGgGryGggrGGr', 48, 'GgGgyryrgryGggggrgGG', 99, 'GyGygGrgyrGGgrGryGrr']\n",
      "61.3 [24, 'GGrggrrrygryyGgGyrgG', 87, 'GgGggrGGGgGryGggrGGr', 48, 'GgGgyryrgryGggggrgGG', 99, 'GyGygGrgyrGGgrGrygrr']\n",
      "61.3 [24, 'GGrggrrrygryyGgGyrgG', 87, 'GgGggrGGGgGryGggrGGr', 48, 'GgygyryrgryGggggrgGG', 99, 'GyGygGrgyrGGgrGrygrr']\n",
      "61.3 [24, 'GGrggrrrygryyGgGyrgG', 87, 'GgGggrGGGgGryGggrGGr', 48, 'GgGgyryrgryGggggrgGG', 99, 'GyGygGrgyrGGgrGrygrr']\n",
      "61.3 [24, 'GGrggrrrygryyGgGyrgG', 87, 'GgGggrGGGgGryGggrGGr', 48, 'GgGgyryrgryGggggrgGG', 99, 'GyGygGrgyrGrygrryyry']\n",
      "61.3 [24, 'GGrggrrrygryyGgGyrgG', 87, 'GgGggrGGGgGryGggrGGr', 48, 'GgGgyryrgryGggggrgGG', 99, 'GyGygGrgyrGrygrryyry']\n",
      "61.3 [24, 'GGrggrrrygryyGgGyrgG', 87, 'GgGggrGGGgGryGggrGGr', 48, 'GgGgyryrgryGggggrgGG', 99, 'GyGygGrgyrGGgrGrygrr']\n",
      "61.3 [24, 'GGrggrrrygryyGgGyrgG', 87, 'GgGggrGGGgGryGggrGGr', 48, 'GgGgyryrgryGggggrgGG', 107, 'GygygGrgyrGrygrryyrG']\n",
      "61.3 [24, 'GGrggrrrygryyGgGyrgG', 87, 'GgGggrGGGgGryGggrGGr', 48, 'GgGgyryrgryGggggrgGG', 99, 'GyGygGrgyrGrygrryyry']\n",
      "61.3 [24, 'GGrggrrrygryyGgGyrgG', 87, 'GgGggrGGGgGryGggrGGr', 48, 'GgGgyryrgryGggggrgGG', 99, 'GyGygGrgyrGGgrGrygrr']\n",
      "61.3 [24, 'GGrggrrrygryyGgGyrgG', 87, 'GgGggrGGGgGryGggrGGr', 48, 'GgGgyryrgryGggggrgGG', 99, 'GyGygGrgyrGGgrGrygrr']\n",
      "61.3 [24, 'GGrggrrrygryyGgGyrgG', 87, 'GgGggrGGGgGryGggrGGr', 48, 'GgygyryrgryGggggrgGG', 99, 'GyGygGrgyrGGgrGrygrr']\n",
      "61.3 [24, 'GGrggrrrygryyGgGyrgG', 87, 'GgGggrGGGgGryGggrGGr', 48, 'GgGgyryrgryGggggrgGG', 99, 'GyGygGrgyrGGgrGrygrr']\n",
      "65.3 [26, 'GGrggrrrygryyGgGyrgG', 87, 'GgGggrGGGgGryGggrGGr', 48, 'GgGgyryrgryGggggrgGG', 99, 'GyGygGrgyrGGgrgrGyry']\n",
      "61.3 [24, 'GGrggrrrygryyGgGyrgG', 87, 'GgGggrGGGgGryGggyGGr', 48, 'GgGgyryrgryGggggrgGG', 99, 'GyGygGrgyrGrygyrygrr']\n",
      "61.3 [24, 'GGrggrrrygryyGgGyrgG', 87, 'GgGggrGGGgGryGggrGGr', 48, 'GgGgyryrgryGggggrgGG', 99, 'GyGygGrgyrGGgrGrygrr']\n",
      "61.3 [24, 'GGrggrrrygryyGgGyrgG', 87, 'GgGggrGGGgGryGggrGGr', 48, 'GgGgyryrgryGggggrgGG', 99, 'GyGygGrgyrGGgrGrygrr']\n",
      "61.3 [24, 'GGrggrrrygryyGgGyrgG', 87, 'GgGggrGGGgGryGggrGGr', 48, 'GgygyryrgryGggggrgGG', 99, 'GyGygGrgyrGgrggGryrG']\n",
      "65.3 [26, 'GGrggrrrygryyGgGyrgG', 87, 'GgGggrGgGgGryGggrGGr', 48, 'GgGgyryrgryGggggrgGG', 99, 'GyGygGrgyrGrygrryyry']\n",
      "61.3 [24, 'GGrggrrrygryyGgGyrgG', 87, 'GgGggrGGGgGryGggrGGr', 48, 'GgGgyryrgryGggggrgGG', 99, 'GyGygGrgyrGGgrGrygrr']\n",
      "61.3 [24, 'GGrggrrrygryyGgGyrgG', 87, 'GgGggrGGGgGryGggrGGr', 48, 'GgGgyryrgryGggggrgGG', 99, 'GyGygGrgyrGrygrryyry']\n",
      "61.3 [24, 'GGrggrrrygryyGgGyrgG', 87, 'GgGggrGGGgGryGggrGGr', 48, 'GgGgyryrgryGggggrgGG', 99, 'GyGygGrgyrGGgrGrygrr']\n",
      "61.3 [24, 'GGrggrrrygryyGgGyrgG', 87, 'GgGggrGGGgGryGggrGGr', 48, 'GgGgyryrgryGggggrgGG', 99, 'GyGygGrgyrGGgrGrygrr']\n",
      "61.3 [24, 'GGrggrrrygryyGgGyrgG', 87, 'GgGggrGGGgGryGggrGGr', 48, 'GgygyryrgryGggggrgGG', 99, 'GyGygGrgyrGgrggGryrG']\n",
      "61.3 [24, 'GGrggrrrygryyGgGyrgG', 87, 'GgGggrGGGgGryGggrGGr', 48, 'GgGgyryrgryGggggrgGG', 99, 'GyGygGrgyrGGgrGrygrr']\n",
      "61.3 [24, 'GGrggrrrygryyGgGyrgG', 87, 'GgGggrGGGgGryGggyGGr', 48, 'GgGgyryrgryGggggrgGG', 99, 'GyGygGrgyrGrygyrygrr']\n",
      "61.3 [24, 'GGrggrrrygryyGgGyrgG', 87, 'GgGggrGGGgGryGggrGGr', 48, 'GgygyryrgryGggggrgGG', 99, 'GyGygGrgyrGGgrGrygrr']\n",
      "794.0 [56, 'GGrggrrrygryyGgGyrgG', 87, 'GgGggrGGGgGryGggrGGr', 48, 'GgygyryrgryGggggrgGG', 99, 'GyGygGrgyrGrygrryyry']\n",
      "59.00000000000001 [24, 'GGrggrrrygryyGgGyrgG', 87, 'GgGggrGGGgGryGggryGr', 48, 'GgGgyryrgryGggggrgGG', 99, 'GyGygGrgyrGgrggGryrG']\n",
      "61.3 [24, 'GGrggrrrygryyGgGyrgG', 87, 'GgGggrGGGgGryGggrGGr', 48, 'GgGgyryrgryGgGggrgGG', 99, 'GyGygGrgyrGGgrGrygrr']\n",
      "61.3 [24, 'GGrggrrrygryyGgGyrgG', 87, 'GgGggrGGGgGryGggrGGr', 48, 'GrGgyryrgryGggggrgGG', 99, 'GyGygGrgyrGGgrGrygrr']\n",
      "61.3 [24, 'GGrggrrrygryyGgGyrgG', 87, 'GgGggrGGGgGryGggrGGr', 48, 'GgGgyryrgryGggggrgGG', 99, 'GyGygGrgyrGGgrGrygrr']\n",
      "61.3 [24, 'GGrggrrrygryyGgGyrgG', 87, 'GgGggrGGGgGryGggrGGr', 48, 'GgGgyryrgryGggggrgGG', 99, 'GyGygGrgyrGGgrGrygrr']\n",
      "61.3 [24, 'GGrggrrrygryyGgGyrgG', 87, 'GgGggrGGGgGryGggrGGr', 48, 'GgGgyryrgryGggggrgGG', 99, 'GyGygGrgyrGGgrGrygrr']\n",
      "61.3 [24, 'GGrggrrrygryyGgGyrgG', 87, 'GgGggrGGGgGryGggrGGr', 48, 'GgGgyryrgryGggggrgGG', 107, 'GygygGrgyrGrygrryyrG']\n",
      "61.3 [24, 'GGrggrrrygryyGgGyrgG', 87, 'GgGggrGGGgGryGggrGGr', 48, 'GgGgyryrgryGggggrgGG', 99, 'GyGygGrgyrGrygrryyry']\n",
      "61.3 [24, 'GGrggrrrygryyGgGyrgG', 87, 'GgGggrGGGgGryGggrGGr', 48, 'GgGgyryrgryGggggrgGG', 99, 'GyGygGrgyrGrygrryyry']\n",
      "61.3 [24, 'GGrggrrrygryyGgGyrgG', 87, 'GgGggrGGGgGryGggrGGr', 48, 'GgygyryrgryGggggrgGG', 99, 'GyGygGrgyrGGgrGrygrr']\n",
      "61.3 [24, 'GGrggrrrygryyGgGyrgG', 87, 'GgGggrGGGgGryGggrGGr', 48, 'GgGgyryrgryGggggrgGG', 99, 'GyGygGrgyrGGgrGrygrr']\n",
      "61.3 [24, 'GGrggrrrygryyGgGyrgG', 87, 'GgGggrGGGgGryGggrGGr', 48, 'GgGgyryrgryGggggrgGG', 107, 'GygygGrgyrGrygrryyrG']\n",
      "61.3 [24, 'GGrggrrrygryyGgGyrgG', 87, 'GgGggrGGGgGryGggrGGr', 48, 'GgGgyryrgryGggggrgGG', 99, 'GyGygGrgyrGGgrGrygrr']\n"
     ]
    }
   ],
   "source": [
    "ga.run()"
   ]
  },
  {
   "cell_type": "code",
   "execution_count": 10,
   "metadata": {},
   "outputs": [],
   "source": [
    "best = phenotype(ga.best_individual()[1])"
   ]
  },
  {
   "cell_type": "code",
   "execution_count": 11,
   "metadata": {},
   "outputs": [
    {
     "name": "stdout",
     "output_type": "stream",
     "text": [
      "[84.59999999999998, 84.59999999999998, 65.3, 65.3, 65.3, 65.3, 61.3, 61.3, 61.3, 59.00000000000001]\n",
      "[2591.485, 778.28, 165.54, 122.33499999999998, 71.88999999999999, 65.3, 64.89999999999999, 63.9, 61.699999999999996, 99.7421052631579]\n",
      "[2510.6770177898024, 796.2656397538648, 167.9039650326466, 189.56450998899666, 8.288920950661531, 0.0, 1.2311740225021848, 1.9574419397183715, 1.231174022502185, 168.12304791362214]\n"
     ]
    },
    {
     "data": {
      "image/png": "[encoded data removed]",
      "text/plain": [
       "<Figure size 432x288 with 1 Axes>"
      ]
     },
     "metadata": {
      "needs_background": "light"
     },
     "output_type": "display_data"
    }
   ],
   "source": [
    "from statistics import mean, stdev\n",
    "import matplotlib.pyplot as plt\n",
    "import numpy as np\n",
    "\n",
    "generation_fitnesses = []\n",
    "elite_fitnesses = []\n",
    "mean_fitnesses = []\n",
    "stdev_fitnesses = []\n",
    "\n",
    "for i in range(ga.generations):\n",
    "    generation_fitnesses.append(fitnesses[ga.population_size*i:(ga.population_size)*(i+1)])\n",
    "\n",
    "for i in range(ga.generations):\n",
    "    elite_fitnesses.append(min(generation_fitnesses[i]))\n",
    "    mean_fitnesses.append(mean(generation_fitnesses[i]))\n",
    "    stdev_fitnesses.append(stdev(generation_fitnesses[i]))\n",
    "    \n",
    "print(elite_fitnesses)\n",
    "print(mean_fitnesses)\n",
    "print(stdev_fitnesses)\n",
    "\n",
    "\n",
    "plt.plot(fitnesses, label='Fitness')\n",
    "t = np.linspace(ga.population_size/2, (ga.population_size/2)*(2*ga.generations-1), ga.generations)\n",
    "plt.plot(t, elite_fitnesses,'bs', label='Elite Fitness')\n",
    "plt.plot(t, mean_fitnesses, 'ro', label='Mean Fitness')\n",
    "plt.plot(t, stdev_fitnesses, 'g*', label='Standard Deviation')\n",
    "\n",
    "plt.xlabel('Generation')\n",
    "plt.ylabel('Waiting Time')\n",
    "plt.legend()\n",
    "plt.show()"
   ]
  },
  {
   "cell_type": "code",
   "execution_count": 12,
   "metadata": {},
   "outputs": [
    {
     "data": {
      "text/plain": [
       "59.00000000000001"
      ]
     },
     "execution_count": 12,
     "metadata": {},
     "output_type": "execute_result"
    }
   ],
   "source": [
    "# Best individual, after 10 generations each with a population of 20 individuals\n",
    "display(best)"
   ]
  },
  {
   "cell_type": "code",
   "execution_count": 16,
   "metadata": {},
   "outputs": [
    {
     "data": {
      "text/plain": [
       "4.1"
      ]
     },
     "execution_count": 16,
     "metadata": {},
     "output_type": "execute_result"
    }
   ],
   "source": [
    "# Best so far, after 30 generations each with a population of 50 individuals\n",
    "best_so_far = [43, 'GGGrGgrGrgGGyyGGgGyy', 11, 'GgyGGyGyrgggrGGGGGrr', 38, 'GgGGgGrgyyGGgyygGryr', 78, 'yrrGgryyrrgGyGrGyggG']\n",
    "display(best_so_far)"
   ]
  },
  {
   "cell_type": "code",
   "execution_count": null,
   "metadata": {},
   "outputs": [],
   "source": []
  }
 ],
 "metadata": {
  "kernelspec": {
   "display_name": "Python 3",
   "language": "python",
   "name": "python3"
  },
  "language_info": {
   "codemirror_mode": {
    "name": "ipython",
    "version": 3
   },
   "file_extension": ".py",
   "mimetype": "text/x-python",
   "name": "python",
   "nbconvert_exporter": "python",
   "pygments_lexer": "ipython3",
   "version": "3.7.6"
  }
 },
 "nbformat": 4,
 "nbformat_minor": 4
}
