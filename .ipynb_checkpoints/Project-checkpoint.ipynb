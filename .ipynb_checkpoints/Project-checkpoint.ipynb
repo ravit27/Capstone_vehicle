{
 "cells": [
  {
   "cell_type": "code",
   "execution_count": 2,
   "metadata": {},
   "outputs": [
    {
     "name": "stdout",
     "output_type": "stream",
     "text": [
      "Looking in indexes: https://pypi.org/simple, https://pypi.ngc.nvidia.com\n",
      "Collecting pyeasyga\n",
      "  Downloading pyeasyga-0.3.1.tar.gz (20 kB)\n",
      "Requirement already satisfied: six in c:\\users\\ravit\\anaconda3\\lib\\site-packages (from pyeasyga) (1.14.0)\n",
      "Building wheels for collected packages: pyeasyga\n",
      "  Building wheel for pyeasyga (setup.py): started\n",
      "  Building wheel for pyeasyga (setup.py): finished with status 'done'\n",
      "  Created wheel for pyeasyga: filename=pyeasyga-0.3.1-py2.py3-none-any.whl size=6796 sha256=69626c3edf70086563d79a83a8aebea519453a6ae3deb33716b779ad970388e3\n",
      "  Stored in directory: C:\\Users\\ravit\\AppData\\Local\\Temp\\pip-ephem-wheel-cache-xhsz12kd\\wheels\\58\\fa\\2a\\493c9d613e1048d4338ce44436a2e1c056b9ffcc75fb79add5\n",
      "Successfully built pyeasyga\n",
      "Installing collected packages: pyeasyga\n",
      "Note: you may need to restart the kernel to use updated packages.\n"
     ]
    },
    {
     "name": "stderr",
     "output_type": "stream",
     "text": [
      "ERROR: Could not install packages due to an EnvironmentError: [WinError 32] The process cannot access the file because it is being used by another process: 'C:\\\\Users\\\\ravit\\\\anaconda3\\\\Lib\\\\site-packages\\\\pyeasyga\\\\pyeasyga.py'\n",
      "Consider using the `--user` option or check the permissions.\n",
      "\n"
     ]
    }
   ],
   "source": [
    "pip install pyeasyga"
   ]
  },
  {
   "cell_type": "code",
   "execution_count": 1,
   "metadata": {},
   "outputs": [
    {
     "ename": "ModuleNotFoundError",
     "evalue": "No module named 'pyeasyga'",
     "output_type": "error",
     "traceback": [
      "\u001b[1;31m---------------------------------------------------------------------------\u001b[0m",
      "\u001b[1;31mModuleNotFoundError\u001b[0m                       Traceback (most recent call last)",
      "\u001b[1;32m<ipython-input-1-4c4cad376bf0>\u001b[0m in \u001b[0;36m<module>\u001b[1;34m\u001b[0m\n\u001b[1;32m----> 1\u001b[1;33m \u001b[1;32mfrom\u001b[0m \u001b[0mpyeasyga\u001b[0m \u001b[1;32mimport\u001b[0m \u001b[0mpyeasyga\u001b[0m\u001b[1;33m\u001b[0m\u001b[1;33m\u001b[0m\u001b[0m\n\u001b[0m\u001b[0;32m      2\u001b[0m \u001b[1;32mfrom\u001b[0m \u001b[0msumolib\u001b[0m \u001b[1;32mimport\u001b[0m \u001b[0mcheckBinary\u001b[0m\u001b[1;33m\u001b[0m\u001b[1;33m\u001b[0m\u001b[0m\n\u001b[0;32m      3\u001b[0m \u001b[1;32mimport\u001b[0m \u001b[0mxml\u001b[0m\u001b[1;33m.\u001b[0m\u001b[0metree\u001b[0m\u001b[1;33m.\u001b[0m\u001b[0mElementTree\u001b[0m \u001b[1;32mas\u001b[0m \u001b[0mET\u001b[0m\u001b[1;33m\u001b[0m\u001b[1;33m\u001b[0m\u001b[0m\n\u001b[0;32m      4\u001b[0m \u001b[1;32mimport\u001b[0m \u001b[0mtraci\u001b[0m\u001b[1;33m\u001b[0m\u001b[1;33m\u001b[0m\u001b[0m\n\u001b[0;32m      5\u001b[0m \u001b[1;32mimport\u001b[0m \u001b[0msys\u001b[0m\u001b[1;33m\u001b[0m\u001b[1;33m\u001b[0m\u001b[0m\n",
      "\u001b[1;31mModuleNotFoundError\u001b[0m: No module named 'pyeasyga'"
     ]
    }
   ],
   "source": [
    "from pyeasyga import pyeasyga\n",
    "from sumolib import checkBinary\n",
    "import xml.etree.ElementTree as ET\n",
    "import traci\n",
    "import sys"
   ]
  },
  {
   "cell_type": "code",
   "execution_count": 2,
   "metadata": {},
   "outputs": [],
   "source": [
    "def simulate(program):\n",
    "    traci.start([checkBinary(program), \"-c\", \"sumo/light.sumocfg\", \"--tripinfo-output\", \"sumo/tripinfo.xml\"])\n",
    "    \n",
    "    while traci.simulation.getMinExpectedNumber() > 0:\n",
    "        traci.simulationStep()\n",
    "        \n",
    "    traci.close()\n",
    "    sys.stdout.flush()\n",
    "    \n",
    "    xmldoc = ET.parse('sumo/tripinfo.xml')\n",
    "\n",
    "    tripinfos = xmldoc.findall('tripinfo')\n",
    "\n",
    "    waitingTime = 0\n",
    "    for tripinfo in tripinfos:\n",
    "        waitingTime += float(tripinfo.get('waitingTime'))\n",
    "        \n",
    "    return waitingTime"
   ]
  },
  {
   "cell_type": "code",
   "execution_count": 3,
   "metadata": {},
   "outputs": [],
   "source": [
    "def display(phenotype):\n",
    "    network = ET.parse('sumo/light.net.xml')\n",
    "    signal = network.find('tlLogic')\n",
    "    phases = signal.findall('phase')\n",
    "    \n",
    "    for i in range(4):\n",
    "        phases[i].set(\"duration\", str(phenotype[2*i]))\n",
    "        phases[i].set(\"state\", phenotype[2*i+1])\n",
    "\n",
    "    network.write(\"sumo/light.net.xml\")\n",
    "\n",
    "    return simulate('sumo-gui')"
   ]
  },
  {
   "cell_type": "code",
   "execution_count": 4,
   "metadata": {},
   "outputs": [
    {
     "data": {
      "text/plain": [
       "242.8"
      ]
     },
     "execution_count": 4,
     "metadata": {},
     "output_type": "execute_result"
    }
   ],
   "source": [
    "default = [42, 'GGGGgrrrrrGGGGgrrrrr', 3, 'yyyyyrrrrryyyyyrrrrr', 42, 'rrrrrGGGGgrrrrrGGGGg', 3, 'rrrrryyyyyrrrrryyyyy']\n",
    "display(default)"
   ]
  },
  {
   "cell_type": "code",
   "execution_count": 5,
   "metadata": {},
   "outputs": [],
   "source": [
    "data = [0] * 188\n",
    "ga = pyeasyga.GeneticAlgorithm(data)\n",
    "ga.generations =  10\n",
    "ga.population_size = 20\n",
    "\n",
    "fitnesses = []"
   ]
  },
  {
   "cell_type": "code",
   "execution_count": 6,
   "metadata": {},
   "outputs": [],
   "source": [
    "def phenotype(genotype):\n",
    "    phenotype = []\n",
    "    m = ['G', 'g', 'y', 'r']\n",
    "    \n",
    "    for j in range(4):\n",
    "        phenotype.append(int(''.join(map(str,genotype[:7])),2)) \n",
    "\n",
    "        state = genotype[7:47]\n",
    "        s = \"\"\n",
    "        for i in range(0, 20):\n",
    "            s += m[int(str(state[2*i])+str(state[2*i+1]),2)]\n",
    "        phenotype.append(s)\n",
    "\n",
    "        genotype = genotype[47:]\n",
    "    \n",
    "    return phenotype"
   ]
  },
  {
   "cell_type": "code",
   "execution_count": 7,
   "metadata": {},
   "outputs": [],
   "source": [
    "def fitness(individual, data):\n",
    "    \n",
    "    individual = phenotype(individual)\n",
    "\n",
    "    network = ET.parse('sumo/light.net.xml')\n",
    "    signal = network.find('tlLogic') \n",
    "    \n",
    "    i = 0\n",
    "    for phase in signal.iter('phase'):\n",
    "        duration = str(individual[2*i])\n",
    "        if duration == \"0\":\n",
    "             return 0\n",
    "        state = individual[2*i+1]\n",
    "        phase.set(\"duration\", duration)\n",
    "        phase.set(\"state\", state)\n",
    "        i += 1\n",
    "\n",
    "    network.write(\"sumo/light.net.xml\")\n",
    "    \n",
    "    waitingTime = simulate('sumo')\n",
    "    \n",
    "    fitnesses.append(waitingTime)\n",
    "          \n",
    "    print(waitingTime, individual)\n",
    "    \n",
    "    return 1/waitingTime\n",
    "\n",
    "ga.fitness_function = fitness"
   ]
  },
  {
   "cell_type": "code",
   "execution_count": 8,
   "metadata": {
    "scrolled": true
   },
   "outputs": [
    {
     "name": "stdout",
     "output_type": "stream",
     "text": [
      "1844.9 [61, 'gryyrGryGGgyrrggyGGG', 27, 'gyrggrrgrggrrgrgGrgG', 71, 'yGrrrygygGrygrGryGgr', 93, 'ryrrgryyyyggrygyrgGG']\n",
      "1346.7 [21, 'rryGGGyGggrGyrGgrgGg', 28, 'rggGGygygGGGgGyyGrgG', 58, 'rGrrrGgGygggrgrGGgrG', 75, 'rGyGgyGrGGrygryGGyGy']\n",
      "3258.8999999999996 [104, 'yGGyGrrrrGgryggrggrG', 91, 'GGgrggGGGrrgrryrrGGg', 75, 'yrrgggGyGrryrrgyygyg', 124, 'GrGrrGgGyyGrggrrGgrG']\n",
      "488.4000000000001 [83, 'GGgGGyrggygGyGygyyGG', 25, 'gGrGrrrrrrGrgryGgGrg', 80, 'yGryryGygggrGgggryry', 62, 'rryGGyrgyGgrGgGGGggy']\n",
      "3711.6 [31, 'GGGGrrryrGrrGryyggGy', 127, 'yGyyyGGrGGrGGGGyygyr', 52, 'rrryrGgGGrygyrGgrrgr', 43, 'rgyygGgygGyGGygggGyr']\n",
      "622.0 [107, 'yyGgGygrggGyrGGGrGGg', 67, 'rrrGrrrrGyrGGrrrGyGy', 37, 'gyryGrrrgGgGGGrrygrG', 104, 'rrygrGggrgyyGGrgrrGr']\n",
      "586.6 [25, 'gGrgrGyrggGGyrggrrry', 79, 'yGGGgggryggGggrryGgr', 22, 'GgryGyrGGyGGyGyrgyrr', 56, 'ryyyGGGrrgGyyrGgrGyr']\n",
      "3534.4000000000005 [79, 'ryryrygrGrrgGgrgyggG', 1, 'GrGryGgGrGGyyyrrrgGy', 50, 'GGyryyGgggGrgyryGygy', 91, 'rrGGyyGrgryyyrrGyGGy']\n",
      "7916.599999999999 [119, 'rgygryryGGryyyyGGgrG', 108, 'grGyggrgGyrrGrggGyrr', 29, 'rrggyyrGygyGggrGyyGg', 2, 'yGggyrGggrrgyryyyryG']\n",
      "1342.8999999999999 [67, 'GyyyrgyGrGGGyryrgyry', 6, 'yryGGrrgyyGGGrGggggy', 25, 'GrgrGGrrrgyygGrGgygg', 38, 'ryrGyyrygGgyGgyGGgyg']\n",
      "1656.7000000000003 [42, 'rygrgGyGryygGgrGyygy', 86, 'rgyGgGyGgyggGgGgGGrr', 96, 'GGrGGryyyrgyrgrggGrG', 46, 'GgrgrgyGGyryggGGrrGg']\n",
      "2009.1000000000001 [72, 'yygyGgyrgGyGrGGygyry', 34, 'GgGGGggGGyrgGryGGgGg', 103, 'rGyyrryrrgyGygGyGggG', 4, 'GGggyyrgGygyGGyyrGgr']\n",
      "948.1 [55, 'yrgGGyrygygrgrGrGrgy', 34, 'ggGyggrGGgygGygrGyrr', 115, 'GGgyryyGyGGygggyGGgG', 38, 'gGggGrGyrygGgggGyyry']\n",
      "875.8000000000001 [100, 'yggyGGGrygyGrrrGrggy', 56, 'rgygyGrGyyGggygggyyr', 43, 'rGgyrGgrrGGyGrryrgry', 92, 'gGggrGygGrggrgggggrg']\n",
      "881.0999999999999 [2, 'rGGyrgygyyrygrryrgyy', 19, 'yrggrggygyGGrgyGGggg', 75, 'rGgrGrgggGyGryrGyrgy', 19, 'gyyGgygGrggGrrGgrrGg']\n",
      "850.3000000000001 [91, 'ggyGGyryyGyrGGGrgygg', 37, 'rrggyGGyyrGygGGrrgGg', 90, 'yryGgrgrrrGgGgrrggyg', 9, 'ggyryGyyyyygGgrgrGrr']\n",
      "2092.4 [6, 'GgrgggrrgygGrGgyyryG', 120, 'yyygyGgyyGyrGgrgyGgg', 23, 'rryggGyrrygGgryyyrGr', 50, 'yggGryGgyGgyGGrGGrrG']\n",
      "1861.0 [120, 'gygyyygryGrgrGgGrrrg', 34, 'ggyggggyyGryygyrgyrG', 123, 'yyyrgrgrrgrgyGyyGGrr', 54, 'yygGGygGgrGgrGyGyGGg']\n",
      "2988.0999999999995 [101, 'yGyrgryyryrGrggryyrg', 70, 'gygyGrGygyGrgggrrgGr', 47, 'GgGyrGrrrGGyrGrgryyy', 45, 'rrGrGyrygGGrGGrGrGGG']\n",
      "1770.4 [68, 'GGrgryyyGGyryrgggyrr', 13, 'yyggGgrgggGgyrGygryr', 104, 'GgyrygGryyyyygyrryyg', 98, 'GgygryGgGrgggrrGGygr']\n",
      "488.4000000000001 [83, 'GGgGGyrggygGyGygyyGG', 25, 'gGrGrrrrrrGrgryGgGrg', 80, 'yGryryGygggrGgggryry', 62, 'rryGGyrgyGgrGgGGGggy']\n",
      "850.3000000000001 [91, 'ggyGGyryyGyrGGGrgygg', 37, 'rrggyGGyyrGygGGrrgGg', 90, 'yryGgrgrrrGgGgrrggyg', 9, 'ggyryGyyyyygGgrgrGrr']\n",
      "955.6999999999999 [55, 'yrgGGyrygygrgrGrGrGy', 19, 'yrggrggygyGGrgyGGggg', 75, 'rGgrGrgggGyGryrGyrgy', 19, 'gyyGgygGrggGrrGgrrGg']\n",
      "344.1 [2, 'rGGyrgygyyrygrryrgry', 34, 'ggGyggrGGgygGygrGyrr', 115, 'GGgyryyGyGGygggyGGgG', 38, 'gGggGrGyrygGgggGyyry']\n",
      "437.4 [91, 'ggyGGyryyGyrGGGrgyGG', 25, 'gGrGrrrrrrGrgryGgGrg', 80, 'yGryryGygggrGgggryry', 62, 'rryGGyrgyGgrGgGGGggy']\n",
      "1400.1 [83, 'GGgGGyrggygGyGygyygg', 37, 'rrggyGGyyrGygGGrrgGg', 90, 'yryGgrgrrrGgGgrrggyg', 9, 'ggyryGyyyyygGgrgrGrr']\n",
      "723.3 [83, 'GGgGGyrggygGyGygyyGG', 25, 'gGrGrrrrrrGrgryGgGrg', 80, 'yGgrGrgggGyGryrGyrgy', 19, 'gyyGgygGrggGrrGgrrGg']\n",
      "2122.6 [2, 'rGGyrgygyyrygrryrgyy', 19, 'yrggrggygyGGrgyGGggg', 75, 'rGryryGygggrGgggryry', 62, 'rryGGyrgyGgrGgGGGggy']\n",
      "1712.0 [83, 'GGgGGyrggygGyGygyyGG', 25, 'gGrGrrrrrrGrgryGGGrr', 96, 'GGrGGryyyrgyrgrggGrG', 46, 'GgrgrgyGGyryggGGrrGg']\n",
      "1788.6 [42, 'rygrgGyGryygGgrGyygy', 86, 'rgyGgGyGgyggGgGggGrg', 80, 'yGryryGygggrGgggryry', 62, 'rryGGyrgyGgrGgGGGggy']\n",
      "1379.7 [107, 'yyGGGyryyGyrGGGrgygg', 37, 'rrggyGGyyrGygGGrrgGg', 90, 'yryGgrgrrrGgGgrrggyg', 9, 'ggyryGyyyyygGgrgrGrr']\n",
      "308.9 [91, 'ggygGygrggGyrGGGrGGg', 67, 'rrrGrrrrGyrGGrrrGyGy', 37, 'gyryGrrrgGgGGGrrygrG', 104, 'rrygrGggrgyyGGrgrrGr']\n",
      "2076.6000000000004 [83, 'GGgGGyrggygGyGygyyGG', 25, 'rrrGrrrrGyrGGrrrGyGy', 37, 'gyryGrrrgGgGGGrrygrG', 104, 'rrygrGggrgyyGGrgrrGr']\n",
      "574.0 [107, 'yyGgGygrggGyrGGGrGGg', 67, 'gGrGrrrrrrGrgryGgGrg', 80, 'yGryryGygggrGgggryry', 62, 'rryGGyrgyGgrGgGGGggy']\n",
      "875.8000000000001 [100, 'yggyGGGrygyGrrrGrggy', 56, 'rgygyGrGyyGggygggyyr', 43, 'rGgyrGgrrGGyGrryrgry', 92, 'gGggrGygGrggrgggggrg']\n",
      "875.8000000000001 [100, 'yggyGGGrygyGrrrGrggy', 56, 'rgygyGrGyyGggygggyyr', 43, 'rGgyrGgrrGGyGrryrgry', 92, 'gGggrGygGrggrgggggrg']\n",
      "569.0 [91, 'ggyGGyryyGyrGGGrgygg', 37, 'rrggyGGyyrGygGGrrgGg', 90, 'yryGgrgrrryygGrGgygg', 38, 'ryrGyyrygGgyGgyGGgyg']\n",
      "1027.9 [67, 'GyyyrgyGrGGGyryrgyry', 6, 'yryGGrrgyyGGGrGggggy', 25, 'GrgrGGrrrgGgGgrrggyg', 9, 'ggyryGyyyyygGgrgrGrr']\n",
      "948.1 [55, 'yrgGGyrygygrgrGrGrgy', 34, 'ggGyggrGGgygGygrGyrr', 115, 'GGgyryyGyGGygggyGGgG', 38, 'gGggGrGyrygGgggGyyry']\n",
      "948.1 [55, 'yrgGGyrygygrgrGrGrgy', 34, 'ggGyggrGGgygGygrGyrr', 115, 'GGgyryyGyGGygggyGGgG', 38, 'gGggGrGyrygGgggGyyry']\n",
      "308.9 [91, 'ggygGygrggGyrGGGrGGg', 67, 'rrrGrrrrGyrGGrrrGyGy', 37, 'gyryGrrrgGgGGGrrygrG', 104, 'rrygrGggrgyyGGrgrrGr']\n",
      "394.9 [91, 'ggygGygrggGyrGGGrGGg', 67, 'rrrGrrrrrrGrgryGgGrg', 80, 'yGryryGygggrGgggryry', 62, 'rryGGyrgyGgrGgGGGggy']\n",
      "850.3000000000001 [91, 'ggyGGyryyGyrGGGrgygg', 37, 'rrggyGGyyrGygGGrrgGg', 90, 'yryGgrgrrrGgGgrrggyg', 9, 'ggyryGyyyyygGgrgrGrr']\n",
      "308.9 [91, 'ggygGygrggGyrGGGrGGg', 67, 'rrrGrrrrGyrGGrrrGyGy', 37, 'gyryGrrrgGgGGGrrygrG', 104, 'rrygrGggrgyyGGrgrrGr']\n",
      "744.0 [2, 'rGGyrgygyyrygrryrgry', 34, 'ggGyggrGGgygGygrGyrr', 115, 'yGryryGygggrygggryry', 62, 'rryGGyrgyGgrGgGGGggy']\n",
      "414.09999999999997 [107, 'yyGgGygrggGyrGGGrGGg', 67, 'gGrGrrrrrrGrgryGgGrg', 81, 'GGgyryyGyGGygggyGGgG', 38, 'gGggGrGyrygGgggGyyry']\n",
      "850.3000000000001 [91, 'ggyGGyryyGyrGGGrgygg', 37, 'rrggyGGyyrGygGGrrgGg', 90, 'yryGgrgrrrGgGgrrggyg', 9, 'ggyryGyyyyygGgrgrGrr']\n",
      "569.0 [91, 'ggyGGyryyGyrGGGrgygg', 37, 'rrggyGGyyrGygGGrrgGg', 90, 'yryGgrgrrryygGrGgygg', 38, 'ryrGyyrygGgyGgyGGgyg']\n",
      "308.9 [91, 'ggygGygrggGyrGGGrGGg', 67, 'rrrGrrrrGyrGGrrrGyGy', 37, 'gyryGrrrgGgGGGrrygrG', 104, 'rrygrGggrgyyGGrgrrGr']\n",
      "488.4000000000001 [83, 'GGgGGyrggygGyGygyyGG', 25, 'gGrGrrrrrrGrgryGgGrg', 80, 'yGryryGygggrGgggryry', 62, 'rryGGyrgyGgrGgGGGggy']\n",
      "569.0 [91, 'ggyGGyryyGyrGGGrgyGg', 37, 'rrggyGGyyrGygGGrrgGg', 90, 'yryGgrgrrryygGrGgygg', 38, 'ryrGyyrygGgyGgyGGgyg']\n",
      "437.4 [91, 'ggyGGyryyGyrGGGrgygG', 25, 'gGrGrrrrrrGrgryGgGrg', 80, 'yGryryGygggrGgggryry', 62, 'rryGGyrgyGgrGgGGGggy']\n",
      "308.9 [91, 'ggygGygrggGyrGGGrGGg', 67, 'rrrGrrrrGyrGGrrrGyGy', 37, 'gyryGrrrgGgGGGrrygrG', 104, 'rrygrGggrgyyGGrgrggy']\n",
      "437.4 [91, 'ggyGGyryyGyrGGGrgyGG', 25, 'gGrGrrrrrrGrgryGgGrg', 80, 'yGryryGygggrGgggryry', 62, 'rryGGyrgyGgrGgGGGrGr']\n",
      "308.9 [91, 'ggygGygrggGyrGGGrGGg', 67, 'rrrGrrrrGyrGGrrrGyGy', 37, 'gyryGrrrgGgGGGrrygrG', 104, 'rrygrGggrgyyGGrgrrGr']\n",
      "308.9 [91, 'ggygGygrggGyrGGGrGGg', 67, 'rrrGrrrrGyrGGrrrGyGy', 37, 'gyryGrrrgGgGGGrrygrG', 104, 'rrygrGggrgyyGGrgrrGr']\n",
      "344.1 [2, 'rGGyrgygyyrygrryrgry', 34, 'ggGyggrGGgygGygrGyrr', 115, 'GGgyryyGyGGygggyGGgG', 38, 'gGggGrGyrygGgggGyyrr']\n",
      "308.9 [91, 'ggygGygrggGyrGGGrGGg', 67, 'rrrGrrrrGyrGGrrrGyGy', 37, 'gyryGrrrgGgGGGrrygrG', 104, 'rrygrGggrgyyGGrgrrGy']\n",
      "875.8 [91, 'ggyGGyryyGyrGGGrgygg', 37, 'rrggyGGyyrGygGGrrgGg', 90, 'yryGgrgrrrGgGgrrggyg', 8, 'rryGGyrgyGgrGgGGGggy']\n",
      "743.2 [107, 'yyGgGygrggGyrGGGrGGg', 67, 'gGrGrrrrrrGrgryGgGrg', 80, 'yGryryGygggrGgggryry', 63, 'ggyryGyyyyygGgrgrGrr']\n",
      "308.9 [91, 'ggygGygrggGyrGGGrGGg', 67, 'rrrGrrrrGyrGGrrrGyGy', 37, 'gyryGrrrgGgGGGrrygrG', 104, 'rrygrGggrgyyGGrgrrGr']\n",
      "308.9 [91, 'ggygGygrggGyrGGGrGGg', 67, 'rrrGrrrrGyrGGrrrGyGy', 37, 'gyryGrrrgGgGGGrrygrG', 104, 'rrygrGggrgyyGGrgrrGr']\n",
      "308.9 [91, 'ggygGygrggGyrGGGrGGg', 67, 'rrrGrrrrGyrGGrrrGyGy', 37, 'gyryGrrrgGgGGGrrygrG', 104, 'rrygrGggrgyyGGrgrrGr']\n",
      "308.9 [91, 'ggygGygrggGyrGGGrGGg', 67, 'rrrGrrrrGyrGGrrrGyGy', 37, 'gyryGrrrgGgGGGrrygrG', 104, 'rrygrGggrgyyGGrgrrGy']\n",
      "308.9 [91, 'ggygGygrggGyrGGGrGGg', 67, 'rrrGrrrrGyrGGrrrGyGy', 37, 'gyryGrrrgGgGGGrrygrG', 104, 'rrygrGggrgyyGGrgrrGr']\n",
      "308.9 [91, 'ggygGygrggGyrGGGrGGg', 67, 'rrrGrrrrGyrGGrrrGyGy', 37, 'gyryGrrrgGgGGGrrygrG', 104, 'rrygrGggrgyyGGrgrrGr']\n",
      "308.9 [91, 'ggygGygrggGyrGGGrGGg', 67, 'rrrGrrrrGyrGGrrrGyGy', 37, 'gyryGrrrgGgGGGrrygrG', 104, 'rrygrGggrgyyGGrgrrGy']\n"
     ]
    },
    {
     "name": "stdout",
     "output_type": "stream",
     "text": [
      "308.9 [91, 'ggygGygrggGyrGGGrGGg', 67, 'rrrGrrrrGyrGGrrrGyGy', 37, 'gyryGrrrgGgGGGrrygrG', 104, 'rrygrGggrgyyGGrgrrGr']\n",
      "2357.2 [2, 'rGGrrgygyyrygrryrgry', 34, 'ggGygrrrGyrGGrrrGyGy', 37, 'gyryGrrrgGgGGGrrygrG', 104, 'rrygrGggrgyyGGrgrrGr']\n",
      "223.7 [91, 'ggygGygrggGyrGGGrgGg', 67, 'rrrGrgrGGgygGygrGyrr', 115, 'GGgyryyGyGGygggyGGgG', 38, 'gGggGrGyrygGgggGyyrr']\n",
      "235.0 [91, 'ggygGygrggGyrGGGrGGg', 67, 'rrrGrrrrGyrGGrrrGyrr', 115, 'GGgyryyGyGGygggyGGgG', 38, 'gGggGrGyrygGgggGyyrr']\n",
      "829.2 [2, 'rGGyrgygyyrygrryrgry', 34, 'ggGyggrGGgygGygrGyGy', 37, 'gyryGrrrgGgGGGrrygrG', 104, 'rrygrGggrgyyGGrgrrGr']\n",
      "308.9 [91, 'ggygGygrggGyrGGGrGGg', 67, 'rrrGrrrrGyrGGrrrGyGy', 37, 'gyryGrrrgGgGGGrrygrG', 104, 'rrygrGggrgyyGGrgrrGr']\n",
      "308.9 [91, 'ggygGygrggGyrGGGrGGg', 67, 'rrrGrrrrGyrGGrrrGyGy', 37, 'gyryGrrrgGgGGGrrygrG', 104, 'rrygrGggrgyyGGrgrrGr']\n",
      "308.9 [91, 'ggygGygrggGyrGGGrGGg', 67, 'rrrGrrrrGyrGGrrrGyGy', 37, 'gyryGrrrgGgGGGrrygrG', 104, 'rrygrGggrgyyGGrgrrGr']\n",
      "308.9 [91, 'ggygGygrggGyrGGGrGGg', 67, 'rrrGrrrrGyrGGrrrGyGy', 37, 'gyryGrrrgGgGGGrrygrG', 104, 'rrygrGggrgyyGGrgrrGr']\n",
      "308.9 [91, 'ggygGygrggGyrGGGrGGg', 67, 'rrrGrrrrGyrGGrrrGyGy', 37, 'gyryGrrrgGgGGGrrygrG', 104, 'rrygrGggrgyyGGrgrrGr']\n",
      "308.9 [91, 'ggygGygrggGyrGGGrGGg', 67, 'rrrGrrrrGyrGGrrrGyGy', 37, 'gyryGrrrgGgGGGrrygrG', 104, 'rrygrGggrgyyGGrgrrGr']\n",
      "308.9 [91, 'ggygGygrggGyrGGGrGGg', 67, 'rrrGrrrrGyrGGrrrGyGy', 37, 'gyryGrrrgGgGGGrrygrG', 104, 'rrygrGggrgyyGGrgrrGr']\n",
      "308.9 [91, 'ggygGygrggGyrGGGrGGg', 67, 'rrrGrrrrGyrGGrrrGyGy', 37, 'gyryGrrrgGgGGGrrygrG', 104, 'rrygrGggrgyyGGrgrrGr']\n",
      "223.7 [91, 'ggygGygrggGyrGGGrgGg', 67, 'rrrGrgrGGgygGygrGyrr', 115, 'GGgyryyGyGGygggyGGgG', 38, 'gGggGrGyrygGgggGyyrr']\n",
      "223.7 [91, 'ggygGygrggGyrGGGrgGg', 67, 'rrrGrgrGGgygGygrGyrr', 115, 'GGgyryyGyGGygggyGGgG', 38, 'gGggGrGyrygGgggGyyrr']\n",
      "223.7 [91, 'ggygGygrggGyrGGGrgGg', 67, 'rrrGrgrGggygGygrGyrr', 115, 'GGgyryyGyGGygggyGGgG', 38, 'gGggGrGyrygGgggGyyrr']\n",
      "308.9 [91, 'ggygGygrggGyrGGGrGGg', 67, 'rrrGrrrrGyrGGrrrGyGy', 37, 'gyryGrrrgGgGGGrrygry', 104, 'rrygrGggrgyyGGrgrrGr']\n",
      "572.6 [91, 'ggygGygrggGyrGGGrgGg', 67, 'rrrGrrrrGyrGGrrrGyGy', 37, 'gyryGrrrgGgGGGrrygrG', 104, 'rrygrGggrgyyGGrgrrGr']\n",
      "101.0 [91, 'ggygGygrggGyrGGGrGGg', 67, 'rrrGrgrGGgygGygrGyrr', 115, 'GGgyryyGyGGygggyGGgG', 38, 'gGggGrGyrygGgggGyyrr']\n",
      "308.9 [91, 'ggygGygrggGyrGGGrGGg', 67, 'rrrGrrrrGyrGGrrrGyGy', 37, 'gyryGrrrgGgGGGrrygrG', 104, 'rrygrGggrgyyGGrgrrGr']\n",
      "235.0 [91, 'ggygGygrggGyrGGGrGGg', 67, 'rrrGrrrrGyrGGrrrGyrr', 115, 'GGgyryyGyGGygggyGGgG', 38, 'gGggGrGyrygGgggGyyrr']\n",
      "235.0 [91, 'ggygGygrggGyrGGGrGGg', 67, 'rrrGrrrrGyrGGrrrGyrr', 115, 'GGgyryyGyGgGGGrrygrG', 104, 'rrygrGggrgyyGGrgrrGr']\n",
      "645.5 [91, 'ggygGygrggGyrGGGrGGg', 67, 'rrrGrrrrGyrGGrrrGyGy', 37, 'gyryGrrrgGGygggyGGgG', 38, 'gGggGrGyrygGgggGyyrr']\n",
      "308.9 [91, 'ggygGygrggGyrGGGrGGg', 67, 'rrrGrrrrGyrGGrrrGyGy', 37, 'gyryGrrrgGgGGGrrygrG', 104, 'rrygrGggrgyyGGrgrrGy']\n",
      "235.0 [91, 'ggygGygrggGyrGGGrGGg', 67, 'rrrGrrrrGyrGGrrrGyrr', 115, 'GGgyryyGyGGygggyGGgG', 38, 'gGggGrGyrygGgggGyyrr']\n",
      "308.9 [91, 'ggygGygrggGyrGGGrGGg', 67, 'rrrGrrrrGyrGGrrrGyGy', 37, 'gyryGrrrgGgGGGrrygrG', 104, 'rrygrGggrgyyGGrgrrGr']\n",
      "223.7 [91, 'ggygGygrggGyrGGGrgGg', 67, 'rrrGrgrGGgygGygrGyrr', 115, 'GGgyryyGyGGygggyGGgG', 38, 'gGggGrGyrygGgggGyyrr']\n",
      "223.7 [91, 'ggygGygrggGyrGGGrgGg', 67, 'rrrGrgrGGgygGygrGyrr', 115, 'GGgyryyGyGGygggyGGgG', 38, 'gGggGrGyrygGgggGyyrr']\n",
      "223.7 [91, 'ggygGygrggGyrGGGrgGg', 67, 'rrrGrgrGGgygGygrGyrr', 115, 'GGgyryyGyGGygggyGGgG', 38, 'gGggGrGyrygGgggGyyrr']\n",
      "308.9 [91, 'ggygGygrggGyrGGGrGGg', 67, 'rrrGrrrrGyrGGrrrGyGy', 37, 'gyryGrrrgGgGGGrrygrG', 104, 'rrygrGggrgyyGGrgrrGr']\n",
      "308.9 [91, 'ggygGygrggGyrGGGrGGg', 67, 'rrrGrrrrGyrGGrrrGyGy', 37, 'gyryGrrrgGgGGGrrygrG', 104, 'rrygrGggrgyyGGrgrrGy']\n",
      "308.9 [91, 'ggygGygrggGyrGGGrGGg', 67, 'rrrGrrrrGyrGGrrrGyGy', 37, 'gyryGrrrgGgGGGrrygrG', 104, 'rrygrGggrgyyGGrgrrGr']\n",
      "223.7 [91, 'ggygGygrggGyrGGGrgGg', 67, 'rrrGrgrGGgygGygrGyrr', 115, 'GGgyryyGyGGygggyGGgG', 38, 'gGggGrGyrygGgggGyyrr']\n",
      "101.0 [91, 'ggygGygrggGyrGGGrGGg', 67, 'rrrGrgrGGgygGygrGyrr', 115, 'GGgyryyGyGGygggyGGgG', 38, 'gGggGrGyrygGgggGyyrr']\n",
      "223.7 [91, 'ggygGygrggGyrGGGrgGg', 67, 'rrrGrgrGGgygGygrGyrr', 115, 'GGgyryyGyGGygggyGGgG', 38, 'gGggGrGyrygGgggGyyrr']\n",
      "223.7 [91, 'ggygGygrggGyrGGGrgGg', 67, 'rrrGrgrGGgygGygrGyrr', 115, 'GGgyryyGyGGygggyGGgG', 38, 'gGggGrGyrygGgggGyyrr']\n",
      "101.0 [91, 'ggygGygrggGyrGGGrGGg', 67, 'rrrGrgrGGgygGygrGyrr', 115, 'GGgyryyGyGGygggyGGgG', 38, 'gGggGrGyrygGgggGyyrr']\n",
      "223.7 [91, 'ggygGygrggGyrGGGrgGg', 67, 'rrrGrgrGGgygGygrGyrr', 115, 'GGgyryyGyGGygggyGGgG', 38, 'gGggGrGyrygGgggGyyrr']\n",
      "101.0 [91, 'ggygGygrggGyrGGGrGGg', 67, 'rrrGrgrGGgygGygrGyrr', 115, 'GGgyryyGyGGygggyGGgG', 38, 'gGggGrGyrygGgggGyyrr']\n",
      "223.7 [91, 'ggygGygrggGyrGGGrgGg', 67, 'rrrGrgrGGgygGygrGyrr', 115, 'GGgyryyGyGGygggyGGgG', 38, 'gGggGrGyrygGgggGyyrr']\n",
      "101.0 [91, 'ggygGygrggGyrGGGrGGg', 67, 'rrrGrgrGGgygGygrGyrr', 115, 'GGgyryyGyGGygggyGGgG', 38, 'gGggGrGyrygGgggGyyrr']\n",
      "223.7 [91, 'ggygGygrggGyrGGGrgGg', 67, 'rrrGrgrGGgygGygrGyrr', 115, 'GGgyryyGyGGygggyGGgG', 38, 'gGggGrGyrygGgggGyyrr']\n",
      "101.0 [91, 'ggygGygrggGyrGGGrGGg', 67, 'rrrGrgrGGgygGygrGyrr', 115, 'GGgyryyGyGGygggyGGgG', 38, 'gGggGrGyrygGgggGyyrr']\n",
      "101.0 [91, 'ggygGygrggGyrGGGrGGg', 67, 'rrrGrgrGGgygGygrGyrr', 115, 'GGgyryyGyGGygggyGGgG', 38, 'gGggGrGyrygGgggGyyrr']\n",
      "101.0 [91, 'ggygGygrggGyrGGGrGGg', 67, 'rrrGrgrGGgygGygrGyrr', 115, 'GGgyryyGyGGygggyGGgG', 38, 'gGggGrGyrygGgggGyyrr']\n",
      "101.0 [91, 'ggygGygrggGyrGGGrGGg', 67, 'rrrGrgrGGgygGygrGyrr', 115, 'GGgyryyGyGGygggyGGgG', 38, 'gGggGrGyrygGgggGyyrr']\n",
      "223.7 [91, 'ggygGygrggGyrGGGrgGg', 67, 'rrrGrgrGggygGygrGyrr', 115, 'GGgyryyGyGGygggyGGgG', 38, 'gGggGrGyrygGgggGyyrr']\n",
      "235.0 [91, 'ggygGygrggGyrGGGrGGg', 67, 'rrrGrrrrGyrGGrrrGyrr', 115, 'GGgyryyGyGgGGGrrygrG', 104, 'gGggGrGyrygGgggGyyrr']\n",
      "223.7 [91, 'ggygGygrggGyrGGGrgGg', 67, 'rrrGrgrGGgygGygrGyrr', 115, 'GGgyryyGyGGygggyGGgG', 38, 'rrygrGggrgyyGGrgrrGr']\n",
      "223.7 [91, 'ggygGygrggGyrGGGrgGg', 67, 'rrrGrgrGGgygGygrGyrr', 115, 'GGgyryyGyGGygggyGGgG', 38, 'gGggGrGyrygGgggGyyrr']\n",
      "223.7 [91, 'ggygGygrggGyrGGGrgGg', 67, 'rrrGrgrGggygGygrGyrr', 115, 'GGgyryyGyGGygggyGGgG', 38, 'gGggGrGyrygGgggGyyrr']\n",
      "101.0 [91, 'ggygGygrggGyrGGGrGGg', 67, 'rrrGrgrGGgygGygrGyrr', 115, 'GGgyryyGyGGygggyGGgG', 38, 'gGggGrGyrygGgggGyyrr']\n",
      "101.0 [91, 'ggygGygrggGyrGGGrGGg', 67, 'rrrGrgrGGgygGygrGyrr', 115, 'GGgyryyGyGGygggyGGgG', 38, 'gGggGrGyrygGgggGyyrr']\n",
      "101.0 [91, 'ggygGygrggGyrGGGrGGg', 67, 'rrrGrgrGGgygGygrGyrr', 115, 'GGgyryyGyGGygggyGGgG', 38, 'gGggGrGyrygGgggGyyrr']\n",
      "223.7 [91, 'ggygGygrggGyrGGGrgGg', 67, 'rrrGrgrGGgygGygrGyrr', 115, 'GGgyryyGyGGygggyGGgG', 38, 'gGggGrGyrygGgggGyyrr']\n",
      "101.0 [91, 'ggygGygrggGyrGGGrGGg', 67, 'rrrGrgrGGgygGygrGyrr', 115, 'GGgyryyGyGGygggyGGgG', 38, 'gGggGrGyrygGgggGyyrr']\n",
      "101.0 [91, 'ggygGygrggGyrGGGrGGg', 67, 'rrrGrgrGGgygGygrGyrr', 115, 'GGgyryyGyGGygggyGGgG', 38, 'gGggGrGyrygGgggGyyrr']\n",
      "101.0 [91, 'ggygGygrggGyrGGGrGGg', 67, 'rrrGrgrGGgygGygrGyrr', 115, 'GGgyryyGyGGygggyGGgG', 38, 'gGggGrGyrygGgggGyyrr']\n",
      "101.0 [91, 'ggygGygrggGyrGGGrGGg', 67, 'rrrGrgrGGgygGygrGyrr', 115, 'GGgyryyGyGGygggyGGgG', 38, 'gGggGrGyrygGgggGyyrr']\n",
      "101.0 [91, 'ggygGygrggGyrGGGrGGg', 67, 'rrrGrgrGGgygGygrGyrr', 115, 'GGgyryyGyGGygggyGGgG', 38, 'gGggGrGyrygGgggGyyrr']\n",
      "223.7 [91, 'ggygGygrggGyrGGGrgGg', 67, 'rrrGrgrGGgygGygrGyrr', 115, 'GGgyryyGyGGygggyGGgG', 38, 'gGggGrGyrygGgggGyyrr']\n",
      "101.0 [91, 'ggygGygrggGyrGGGrGGg', 67, 'rrrGrgrGGgygGygrGyrr', 115, 'GGgyryyGyGGygggyGGgG', 38, 'gGggGrGyrygGgggGyyrr']\n",
      "101.0 [91, 'ggygGygrggGyrGGGrGGg', 67, 'rrrGrgrGGgygGygrGyrr', 115, 'GGgyryyGyGGygggyGGgG', 38, 'gGggGrGyrygGgggGyyrr']\n",
      "101.0 [91, 'ggygGygrggGyrGGGrGGg', 67, 'rrrGrgrGGgygGygrGyrr', 115, 'GGgyryyGyGGygggyGGgG', 38, 'gGggGrGyrygGgggGyyrr']\n",
      "101.0 [91, 'ggygGygrggGyrGGGrGGg', 67, 'rrrGrgrGGgygGygrGyrr', 115, 'GGgyryyGyGGygggyGGgG', 38, 'gGggGrGyrygGgggGyyrr']\n",
      "101.0 [91, 'ggygGygrggGyrGGGrGGg', 67, 'rrrGrgrGGgygGygrGyrr', 115, 'GGgyryyGyGGygggyGGgG', 38, 'gGggGrGyrygGgggGyyrr']\n",
      "101.0 [91, 'ggygGygrggGyrGGGrGGg', 67, 'rrrGrgrGGgygGygrGyrr', 115, 'GGgyryyGyGGygggyGGgG', 38, 'gGggGrGyrygGgggGyyrr']\n",
      "101.0 [91, 'ggygGygrggGyrGGGrGGg', 67, 'rrrGrgrGGgygGygrGyrr', 115, 'GGgyryyGyGGygggyGGgG', 38, 'gGggGrGyrygGgggGyyrr']\n",
      "101.0 [91, 'ggygGygrggGyrGGGrGGg', 67, 'rrrGrgrGGgygGygrGyrr', 115, 'GGgyryyGyGGygggyGGgG', 38, 'gGggGrGyrygGgggGyyrr']\n"
     ]
    },
    {
     "name": "stdout",
     "output_type": "stream",
     "text": [
      "101.0 [91, 'ggygGygrggGyrGGGrGGg', 67, 'rrrGrgrGGgygGygrGyrr', 115, 'GGgyryyGyGGygggyGGgG', 38, 'gGggGrGyrygGgggGyyrr']\n",
      "101.0 [91, 'ggygGygrggGyrGGGrGGg', 67, 'rrrGrgrGGgygGygrGyrr', 115, 'GGgyryyGyGGygggyGGgG', 38, 'gGggGrGyrygGgggGyyrr']\n",
      "101.0 [91, 'ggygGygrggGyrGGGrGGg', 67, 'rrrGrgrGGgygGygrGyrr', 115, 'GGgyryyGyGGygggyGGgG', 38, 'gGggGrGyrygGgggGyyrr']\n",
      "101.0 [91, 'ggygGygrggGyrGGGrGGg', 67, 'rrrGrgrGGgygGygrGyrr', 115, 'GGgyryyGyGGygggyGGgG', 38, 'gGggGrGyrygGgggGyyrr']\n",
      "101.0 [91, 'ggygGygrggGyrGGGrGGg', 67, 'rrrGrgrGGgygGygrGyrr', 115, 'GGgyryyGyGGygggyGGgG', 38, 'gGggGrGyrygGgggGyyrr']\n",
      "101.0 [91, 'ggygGygrggGyrGGGrGGg', 67, 'rrrGrgrGGgygGygrGyrr', 115, 'GGgyryyGyGGygggyGGgG', 38, 'gGggGyGyrygGgggGyyrr']\n",
      "101.0 [91, 'ggygGygrggGygGGGrGGg', 67, 'rrrGrgrGGgygGygrGyrr', 115, 'GGgyryyGyGGygggyGGgG', 38, 'gGggGrGyrygGgggGyyrr']\n",
      "101.0 [91, 'ggygGygrggGyrGGGrGGg', 67, 'rrrGrgrGGgygGygrGyrr', 115, 'GGgyryrGyGGygggyGGgG', 38, 'gGggGrGyrygGgggGyyrr']\n",
      "101.0 [91, 'ggygGygrggGyrGGGrGGg', 67, 'rrrGrgrGGgygGygrGyrr', 115, 'GGgyryyGyGGygggyGGgG', 38, 'gGggGrGyrygGgggGyyrr']\n",
      "101.0 [91, 'ggygGygrggGyrGGGrGGg', 67, 'rrrGrgrGGgygGygrGyrr', 115, 'GGgyryyGyGGygggyGGgG', 38, 'gGggGrGyrygGgggGyyrr']\n",
      "101.0 [91, 'ggygGygrggGyrGGGrGGg', 67, 'rrrGrgrGGgygGygrGyrr', 115, 'GGgyryyGyGGygggyGGgG', 38, 'gGggGrGyrygGgggGyyrr']\n",
      "101.0 [91, 'ggygGygrggGyrGGGrGGg', 67, 'rrrGrgrGGgygGygrGyrr', 115, 'GGgyryyGyGGygggyGGgG', 38, 'gGggGrGyrygGgggGyyrr']\n",
      "101.0 [91, 'ggygGygrggGyrGGGrGGg', 67, 'rrrGrgrGGgygGygrGyrr', 115, 'GGgyryyGyGGygggyGGgG', 38, 'gGggGrGyrygGgggGyyrr']\n",
      "101.0 [91, 'ggygGygrggGyrGGGrGGg', 67, 'rrrGrgrGGgygGygrGyrr', 115, 'GGgyryyGyGGygggyGGgG', 38, 'gGggGrGyrygGgggGyyrr']\n",
      "101.0 [91, 'ggygGygrggGyrGGGrGGg', 67, 'rrrGrgrGGgygGygrGyrr', 115, 'GGgyryyGyGGygggyGGgG', 38, 'gGggGrGyrygGgggGyyrr']\n",
      "101.0 [91, 'ggygGygrggGyrGGGrGGg', 67, 'rrrGrgrGGgygGygrGyrr', 115, 'GGgyryyGyGGygggyGGgG', 38, 'gGggGrGyrygGgggGyyrr']\n",
      "101.0 [91, 'ggygGygrggGyrGGGrGGg', 67, 'rrrGrgrGGgygGygrGyrr', 115, 'GGgyryyGyGGygggyGGgG', 38, 'gGggGrGyrygGgggGyyrr']\n",
      "101.0 [91, 'ggygGygrggGyrGGGrGGg', 67, 'rrrGrgrGGgygGygrGyrr', 115, 'GGgyryyGyGGygggyGGgG', 38, 'gGggGrGyrygGgggGyyrr']\n",
      "101.0 [91, 'ggygGygrggGyrGGGrGGg', 67, 'rrrGrgrGGgygGygrGyrr', 115, 'GGgyryyGyGGygggyGGgG', 38, 'gGggGrGyrygGgggGyyrr']\n",
      "101.0 [91, 'ggygGygrggGyrGGGrGGg', 67, 'rrrGrgrGGgygGygrGyrr', 115, 'GGgyryyGyGGygggyGGgG', 38, 'gGggGrGyrygGgggGyyrr']\n",
      "101.0 [91, 'ggygGygrggGyrGGGrGGg', 67, 'rrrGrgrGGgygGygrGyrr', 115, 'GGgyryyGyGGygggyGGgG', 38, 'gGggGrGyrygGgggGyyrr']\n",
      "101.0 [91, 'ggygGygrggGyrGGGrGGg', 67, 'rrrGrgrGGgygGygrGyrr', 115, 'GGgyryyGyGGygggyGGgG', 38, 'gGggGrGyrygGgggGyyrr']\n",
      "101.0 [91, 'ggygGygrggGyrGGGrGGg', 67, 'rrrGrgrGGgygGygrGyrr', 115, 'GGgyryyGyGGygggyGGgG', 38, 'gGggGrGyrygGgggGyyrr']\n",
      "101.0 [91, 'ggygGygrggGyrGGGrGGg', 67, 'rrrGrgrGGgygGygrGyrr', 115, 'GGgyryyGyGGygggyGGgG', 38, 'gGggGrGyrygGgggGyyrr']\n",
      "101.0 [91, 'ggygGygrggGyrGGGrGGg', 67, 'rrrGrgrGGgygGygrGyrr', 115, 'GGgyryyGyGGygggyGGgG', 38, 'gGggGrGyrygGgggGyyrr']\n",
      "150.7 [91, 'GgygGygrggGyrGGGrGGg', 67, 'rrrGrgrGGgygGygrGyrr', 115, 'GGgyryyGyGGygggyGGgG', 38, 'gGggGrGyrygGgggGyyrr']\n",
      "101.0 [91, 'ggygGygrggGyrGGGrGGg', 67, 'rrrGrgrGGgygGygrGyrr', 115, 'GGgyryyGyGGygggyGGgG', 38, 'gGggGrGyrygGgggGyyrr']\n",
      "101.0 [91, 'ggygGygrggGyrGGGrGGg', 67, 'rrrGrgrGGgygGygrGyrr', 115, 'GGgyryyGyGGygggyGGgG', 38, 'gGggGrGyrygGgggGyyrr']\n",
      "101.0 [91, 'ggygGygrggGyrGGGrGGg', 67, 'rrrGrgrGGgygGygrGyrr', 115, 'GGgyryyGyGGygggyGGgG', 38, 'gGggGrGyrygGgggGyyrr']\n",
      "101.0 [91, 'ggygGygrggGyrGGGrGGg', 67, 'rrrGrgrGGgygGygrGyrr', 115, 'GGgyryyGyGGygggyGGgG', 38, 'gGggGrGyrygGgggGyyrr']\n",
      "101.0 [91, 'ggygGygrggGyrGGGrGGg', 67, 'rrrGrgrGGgygGygrGyrr', 115, 'GGgyryyGyGGygggyGGgG', 38, 'gGggGyGyrygGgggGyyrr']\n",
      "101.0 [91, 'ggygGygrggGyrGGGrGGg', 67, 'rrrGrgrGGgygGygrGyrr', 115, 'GGgyryrGyGGygggyGGgG', 38, 'gGggGrGyrygGgggGyyrr']\n",
      "101.0 [91, 'ggygGygrggGyrGGGrGGg', 67, 'rrrGrgrGGgygGygrGyrr', 115, 'GGgyryyGyGGygggyGGgG', 38, 'gGggGrGyrygGgggGyyrr']\n",
      "101.0 [91, 'ggygGygrggGyrGGGrGGg', 67, 'rrrGrgrGGgygGygrGyrr', 115, 'GGgyryyGyGGygggyGGgG', 38, 'gGggGrGyrygGgggGyyrr']\n",
      "101.0 [91, 'ggygGygrggGyrGGGrGGg', 67, 'rrrGrgrGGgygGygrGyrr', 115, 'GGgyryyGyGGygggyGGgG', 38, 'gGggGrGyrygGgggGyyrr']\n",
      "101.0 [91, 'ggygGygrggGygGGGrGGg', 67, 'rrrGrgrGGgygGygrGyrr', 115, 'GGgyryyGyGGygggyGGgG', 38, 'gGggGrGyrygGgggGyyrr']\n",
      "101.0 [91, 'ggygGygrggGyrGGGrGGg', 67, 'rrrGrgrGGgygGygrGyrr', 115, 'GGgyryyGyGGygggyGGgG', 38, 'gGggGrGyrygGgggGyyrr']\n",
      "101.0 [91, 'ggygGygrggGyrGGGrGGg', 67, 'rrrGrgrGGgygGygrGyrr', 115, 'GGgyryyGyGGygggyGGgG', 38, 'gGggGrGyrygGgggGyyrr']\n",
      "101.0 [91, 'ggygGygrggGyrGGGrGGg', 67, 'rrrGrgrGGgygGygrGyrr', 115, 'GGgyryyGyGGygggyGGgG', 38, 'gGggGrGyrygGgggGyyrr']\n",
      "101.0 [91, 'ggygGygrggGyrGGGrGGg', 67, 'rrrGrgrGGgygGygrGyrr', 115, 'GGgyryyGyGGygggyGGgG', 38, 'gGggGrGyrygGgggGyyrr']\n",
      "101.0 [91, 'ggygGygrggGyrGGGrGGg', 67, 'rrrGrgrGGgygGygrGyrr', 115, 'GGgyryyGyGGygggyGGgG', 38, 'gGggGrGyrygGgggGyyrr']\n",
      "101.0 [91, 'ggygGygrggGyrGGGrGGg', 67, 'rrrGrgrGGgygGygrGyrr', 115, 'GGgyryyGyGGygggyGGgG', 38, 'gGggGrGyrygGgggGyyrr']\n",
      "101.0 [91, 'ggygGygrggGyrGGGrGGg', 67, 'rrrGrgrGGgygGygrGyrr', 115, 'GGgyryyGyGGygggyGGgG', 38, 'gGggGrGyrygGgggGyyrr']\n",
      "101.0 [91, 'ggygGygrggGyrGGGrGGg', 67, 'rrrGrgrGGgygGygrGyrr', 115, 'GGgyryyGyGGygggyGGgG', 38, 'gGggGrGyrygGgggGyyrr']\n",
      "101.0 [91, 'ggygGygrggGyrGGGrGGg', 67, 'rrrGrgrGGgygGygrGyrr', 115, 'GGgyryyGyGGygggyGGgG', 38, 'gGggGrGyrygGgggGyyrr']\n",
      "101.0 [91, 'ggygGygrggGyrGGGrGGg', 67, 'rrrGrgrGGgygGygrGyrr', 115, 'GGgyryyGyGGygggyGGgG', 38, 'gGggGrGyrygGgggGyyrr']\n",
      "101.0 [91, 'ggygGygrggGyrGGGrGGg', 67, 'rrrGrgrGGgygGygrGyrr', 115, 'GGgyryyGyGGygggyGGgG', 38, 'gGggGrGyrygGgggGyyrr']\n",
      "101.0 [91, 'ggygGygrggGyrGGGrGGg', 67, 'rrrGrgrGGgygGygrGyrr', 115, 'GGgyryyGyGGygggyGGgG', 38, 'gGggGrGyrygGgggGyyrr']\n",
      "101.0 [91, 'ggygGygrggGyrGGGrGGg', 67, 'rrrGrgrGGgygGygrGyrr', 115, 'GGgyrryGyGGygggyGGgG', 38, 'gGggGrGyrygGgggGyyrr']\n",
      "101.0 [91, 'ggygGygrggGyrGGGrGGg', 67, 'rrrGrgrGGgygGyGrGyrr', 115, 'GGgyryyGyGGygggyGGgG', 38, 'gGggGrGyrygGgggGyyrr']\n",
      "101.0 [91, 'ggygGygrggGyrGGGrGGg', 67, 'rrrGrgrGGgygGygrGyrr', 115, 'GGgyryyGyGGygggyGGgG', 38, 'gGggGrGyrygGgggGyyrr']\n",
      "101.0 [91, 'ggygGygrggGyrGGGrGGg', 67, 'rrrGrgrGGgygGygrGyrr', 115, 'GGgyryyGyGGygggyGGgG', 38, 'gGggGrGyrygGgggGyyrr']\n",
      "101.0 [91, 'ggygGygrggGyrGGGrGGg', 67, 'rrrGrgrGGgygGygrGyrr', 115, 'GGgyryyGyGGygggyGGgG', 38, 'gGggGrGyrygGgggGyyrr']\n",
      "101.0 [91, 'ggygGygrggGyrGGGrGGg', 67, 'rrrGrgrGGgygGygrGyrr', 115, 'GGgyryyGyGGygggyGGgG', 38, 'gGggGrGyrygGgggGyyrr']\n",
      "101.0 [91, 'ggygGygrggGyrGGGrGGg', 67, 'rrrGrgrGGgygGygrGyrr', 115, 'GGgyryyGyGGygrgyGGgG', 38, 'gGggGrGyrygGgggGyyrr']\n",
      "165.0 [123, 'ggygGygrggGyrGGGrGGg', 67, 'rrrGrgrGGgygGygrGyrr', 115, 'GGgyryyGyGGygggyGGgG', 38, 'gGggGrGyrygGgggGyyrr']\n",
      "101.0 [91, 'ggygGygrggGyrGGGrGGg', 67, 'rrrGrgrGGgygGygrGyrr', 115, 'GGgyryyGyGGygggyGGgG', 38, 'gGggGrGyrygGgggGyyrr']\n",
      "101.0 [91, 'ggygGygrggGyrGGGrGGg', 67, 'rrrGrgrGGgygGygrGyrr', 115, 'GGgyryyGyGGygggyGGgG', 38, 'gGggGrGyrygGgggGyyrr']\n",
      "101.0 [91, 'ggygGygrggGyrGGGrGGg', 67, 'rrrGrgrGGgygGygrGyrr', 115, 'GGgyryyGyGGygggyGGgG', 38, 'gGggGrGyrygGgggGyyrr']\n",
      "101.0 [91, 'ggygGygrggGyrGGGrGGg', 67, 'rrrGrgrGGgygGygrGyrr', 115, 'GGgyryyGyGGygggyGGgG', 38, 'gGggGrGyrygGgggGyyrr']\n",
      "235.0 [91, 'ggygGygrggGyrGGGrGGg', 67, 'rrrGrgryGgygGygrGyrr', 115, 'GGgyryyGyGGygggyGGgG', 38, 'gGggGrGyrygGgggGyyrr']\n",
      "101.0 [91, 'ggygGygrggGyrGGGrGGg', 67, 'rrrGrgrGGgygGygrGyrr', 115, 'GygyryyGyGGygggyGGgG', 38, 'gGggGrGyrygGgggGyyrr']\n",
      "101.0 [91, 'ggygGygrggGyrGGGrGGg', 67, 'rrrGrgrGGgygGygrGyrr', 115, 'GGgyryyGyGGygggyGGgG', 38, 'gGggGrGyrygGgggGyyrr']\n",
      "101.0 [91, 'ggygGygrggGyrGGGrGGg', 67, 'rrrGrgrGGgygGygrGyrr', 115, 'GGgyryyGyGGygggyGGgG', 38, 'gGggGrGyrygGgggGyyrr']\n"
     ]
    }
   ],
   "source": [
    "ga.run()"
   ]
  },
  {
   "cell_type": "code",
   "execution_count": 9,
   "metadata": {},
   "outputs": [],
   "source": [
    "best = phenotype(ga.best_individual()[1])"
   ]
  },
  {
   "cell_type": "code",
   "execution_count": 10,
   "metadata": {},
   "outputs": [
    {
     "name": "stdout",
     "output_type": "stream",
     "text": [
      "[488.4000000000001, 308.9, 308.9, 223.7, 101.0, 101.0, 101.0, 101.0, 101.0, 101.0]\n",
      "[2029.3, 1020.32, 494.01, 429.375, 287.615, 162.915, 113.27, 101.0, 103.485, 110.9]\n",
      "[1702.0243226043633, 554.1894532605824, 207.80413830031597, 469.5283589607991, 122.30151384784116, 63.571040038518696, 37.766263140254516, 0.0, 11.113257848173953, 32.51865861155311]\n"
     ]
    },
    {
     "data": {
      "image/png": "[encoded data removed]",
      "text/plain": [
       "<Figure size 432x288 with 1 Axes>"
      ]
     },
     "metadata": {
      "needs_background": "light"
     },
     "output_type": "display_data"
    }
   ],
   "source": [
    "from statistics import mean, stdev\n",
    "import matplotlib.pyplot as plt\n",
    "import numpy as np\n",
    "\n",
    "generation_fitnesses = []\n",
    "elite_fitnesses = []\n",
    "mean_fitnesses = []\n",
    "stdev_fitnesses = []\n",
    "\n",
    "for i in range(ga.generations):\n",
    "    generation_fitnesses.append(fitnesses[ga.population_size*i:(ga.population_size)*(i+1)])\n",
    "\n",
    "for i in range(ga.generations):\n",
    "    elite_fitnesses.append(min(generation_fitnesses[i]))\n",
    "    mean_fitnesses.append(mean(generation_fitnesses[i]))\n",
    "    stdev_fitnesses.append(stdev(generation_fitnesses[i]))\n",
    "    \n",
    "print(elite_fitnesses)\n",
    "print(mean_fitnesses)\n",
    "print(stdev_fitnesses)\n",
    "\n",
    "\n",
    "plt.plot(fitnesses, label='Fitness')\n",
    "t = np.linspace(ga.population_size/2, (ga.population_size/2)*(2*ga.generations-1), ga.generations)\n",
    "plt.plot(t, elite_fitnesses,'bs', label='Elite Fitness')\n",
    "plt.plot(t, mean_fitnesses, 'ro', label='Mean Fitness')\n",
    "plt.plot(t, stdev_fitnesses, 'g*', label='Standard Deviation')\n",
    "\n",
    "plt.xlabel('Generation')\n",
    "plt.ylabel('Waiting Time')\n",
    "plt.legend()\n",
    "plt.show()"
   ]
  },
  {
   "cell_type": "code",
   "execution_count": 11,
   "metadata": {},
   "outputs": [
    {
     "data": {
      "text/plain": [
       "101.0"
      ]
     },
     "execution_count": 11,
     "metadata": {},
     "output_type": "execute_result"
    }
   ],
   "source": [
    "# Best individual, after 10 generations each with a population of 20 individuals\n",
    "display(best)"
   ]
  },
  {
   "cell_type": "code",
   "execution_count": 12,
   "metadata": {},
   "outputs": [
    {
     "data": {
      "text/plain": [
       "4.0"
      ]
     },
     "execution_count": 12,
     "metadata": {},
     "output_type": "execute_result"
    }
   ],
   "source": [
    "# Best so far, after 30 generations each with a population of 50 individuals\n",
    "best_so_far = [43, 'GGGrGgrGrgGGyyGGgGyy', 11, 'GgyGGyGyrgggrGGGGGrr', 38, 'GgGGgGrgyyGGgyygGryr', 78, 'yrrGgryyrrgGyGrGyggG']\n",
    "display(best_so_far)"
   ]
  }
 ],
 "metadata": {
  "kernelspec": {
   "display_name": "Python 3",
   "language": "python",
   "name": "python3"
  },
  "language_info": {
   "codemirror_mode": {
    "name": "ipython",
    "version": 3
   },
   "file_extension": ".py",
   "mimetype": "text/x-python",
   "name": "python",
   "nbconvert_exporter": "python",
   "pygments_lexer": "ipython3",
   "version": "3.7.6"
  }
 },
 "nbformat": 4,
 "nbformat_minor": 4
}
