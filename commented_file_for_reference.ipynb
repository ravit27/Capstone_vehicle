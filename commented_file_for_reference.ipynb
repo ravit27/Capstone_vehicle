{
 "cells": [
  {
   "cell_type": "code",
   "execution_count": null,
   "metadata": {
    "id": "CdEz_5zBX_F9"
   },
   "outputs": [],
   "source": [
    "from pyeasyga import pyeasyga #used for implementation of genetic algorithm\n",
    "from sumolib import checkBinary #sumolib is a set of python modules for working with sumo networks, simulation output and other simulation artifacts.\n",
    "#checkBinary(name, bindir=None): Checks for the given binary in the places, defined by the environment variables SUMO_HOME and <NAME>_BINARY.\n",
    "import xml.etree.ElementTree as ET #The xml.etree.ElementTree module implements a simple and efficient API for parsing and creating XML data.\n",
    "import traci #Traffic Control Interface\n",
    "import sys #This module provides access to some variables used or maintained by the interpreter and to functions that interact strongly with the interpreter"
   ]
  },
  {
   "cell_type": "code",
   "execution_count": null,
   "metadata": {
    "id": "W8VsSqlcDW5c"
   },
   "outputs": [],
   "source": [
    "def simulate(program):\n",
    "    traci.start([checkBinary(program), \"-c\", \"sumo/light.sumocfg\", \"--tripinfo-output\", \"sumo/tripinfo.xml\"]) #sumo gets started\n",
    "    \n",
    "    while traci.simulation.getMinExpectedNumber() > 0:  #Returns the number of all active vehicles and persons which are in the net plus the ones still waiting to start.\n",
    "        traci.simulationStep() #used to strt simultion\n",
    "        \n",
    "    traci.close() #simultion is closed \n",
    "    sys.stdout.flush()  #Calling sys.stdout.flush() forces it to \"flush\" the buffer, meaning that it will write everything in the buffer to the terminal, even if normally it would wait before doing so.\n",
    "    \n",
    "    xmldoc = ET.parse('sumo/tripinfo.xml')  #parse the xml file\n",
    "\n",
    "    tripinfos = xmldoc.findall('tripinfo')  #Element.findall() finds only elements with a tag which are direct children of the current element.\n",
    "\n",
    "    waitingTime = 0\n",
    "    for tripinfo in tripinfos:\n",
    "        waitingTime += float(tripinfo.get('waitingTime'))  #The time in which the vehicle speed was below or equal 0.1 m/s (scheduled stops do not count)\n",
    "        \n",
    "    return waitingTime\n",
    "  #return the waitingTime"
   ]
  },
  {
   "cell_type": "code",
   "execution_count": null,
   "metadata": {
    "id": "gCO2lDcuIpj1"
   },
   "outputs": [],
   "source": [
    "def display(phenotype):\n",
    "    network = ET.parse('sumo/light.net.xml')  #parse the xml file\n",
    "    signal = network.find('tlLogic')  #Element.find() finds the first child with a particular tag  #tllogic trffic light logic\n",
    "    phases = signal.findall('phase')   #In a SUMO-TLS definition, time is on the vertical axis and each phase describes all signal states that last for a fixed duration. \n",
    "    \n",
    "    for i in range(4):\n",
    "        phases[i].set(\"duration\", str(phenotype[2*i]))\n",
    "        phases[i].set(\"state\", phenotype[2*i+1])     #model implementtion\n",
    "\n",
    "    network.write(\"sumo/light.net.xml\")   #build network\n",
    "\n",
    "    return simulate('sumo-gui')  #crete gui"
   ]
  },
  {
   "cell_type": "code",
   "execution_count": null,
   "metadata": {
    "id": "0iYOja_fI8yB"
   },
   "outputs": [],
   "source": [
    "default = [42, 'GGGGgrrrrrGGGGgrrrrr', 3, 'yyyyyrrrrryyyyyrrrrr', 42, 'rrrrrGGGGgrrrrrGGGGg', 3, 'rrrrryyyyyrrrrryyyyy']\n",
    "display(default)"
   ]
  },
  {
   "cell_type": "code",
   "execution_count": null,
   "metadata": {
    "id": "RJPD-tBTLfWB"
   },
   "outputs": [],
   "source": [
    "data = [0] * 188\n",
    "ga = pyeasyga.GeneticAlgorithm(data)  #implementtion of genetic model\n",
    "ga.generations =  10 #Each generation consist of a population of individuals and each individual represents a point in search space and possible solution. \n",
    "ga.population_size = 20  #population size is an important parameter which directly influences the ability to search an optimum solution in the search space\n",
    "\n",
    "fitnesses = [] "
   ]
  },
  {
   "cell_type": "code",
   "execution_count": 2,
   "metadata": {
    "colab": {
     "base_uri": "https://localhost:8080/"
    },
    "id": "dM12txEGLnLm",
    "outputId": "b25b85b6-fe5e-4c12-9439-b154e83b9ee8"
   },
   "outputs": [
    {
     "name": "stdout",
     "output_type": "stream",
     "text": [
      "[0, 0, 0, 0, 0, 0, 0, 0, 0, 0, 0, 0, 0, 0, 0, 0, 0, 0, 0, 0, 0, 0, 0, 0, 0, 0, 0, 0, 0, 0, 0, 0, 0, 0, 0, 0, 0, 0, 0, 0, 0, 0, 0, 0, 0, 0, 0, 0, 0, 0, 0, 0, 0, 0, 0, 0, 0, 0, 0, 0, 0, 0, 0, 0, 0, 0, 0, 0, 0, 0, 0, 0, 0, 0, 0, 0, 0, 0, 0, 0, 0, 0, 0, 0, 0, 0, 0, 0, 0, 0, 0, 0, 0, 0, 0, 0, 0, 0, 0, 0, 0, 0, 0, 0, 0, 0, 0, 0, 0, 0, 0, 0, 0, 0, 0, 0, 0, 0, 0, 0, 0, 0, 0, 0, 0, 0, 0, 0, 0, 0, 0, 0, 0, 0, 0, 0, 0, 0, 0, 0, 0, 0, 0, 0, 0, 0, 0, 0, 0, 0, 0, 0, 0, 0, 0, 0, 0, 0, 0, 0, 0, 0, 0, 0, 0, 0, 0, 0, 0, 0, 0, 0, 0, 0, 0, 0, 0, 0, 0, 0, 0, 0, 0, 0, 0, 0, 0, 0]\n"
     ]
    }
   ],
   "source": [
    "#Phenotype is the population in the actual real world solution space in which solutions are represented in a way they are represented in real world\n",
    "def phenotype(genotype):\n",
    "    phenotype = []\n",
    "    m = ['G', 'g', 'y', 'r']\n",
    "    \n",
    "    for j in range(4):\n",
    "        phenotype.append(int(''.join(map(str,genotype[:7])),2)) \n",
    "\n",
    "        state = genotype[7:47]\n",
    "        s = \"\"\n",
    "        for i in range(0, 20):#population size\n",
    "            s += m[int(str(state[2*i])+str(state[2*i+1]),2)]#Generating the red yellow green state sequence\n",
    "        phenotype.append(s)\n",
    "\n",
    "        genotype = genotype[47:]\n",
    "    \n",
    "    return phenotype"
   ]
  },
  {
   "cell_type": "code",
   "execution_count": null,
   "metadata": {
    "id": "EAt506rrMZSF"
   },
   "outputs": [],
   "source": [
    "#A fitness function is a particular type of objective function that is used to summarise, as a single figure of merit, how close a given design solution is to achieving the set aims. Fitness functions are used in genetic programming and genetic algorithms to guide simulations towards optimal design solutions.\n",
    "def fitness(individual, data):#Individual= array of (duration,state)\n",
    "    \n",
    "    individual = phenotype(individual)\n",
    "\n",
    "    network = ET.parse('sumo/light.net.xml')\n",
    "    signal = network.find('tlLogic') \n",
    "    \n",
    "    i = 0\n",
    "    for phase in signal.iter('phase'):\n",
    "        duration = str(individual[2*i])#finding Duration\n",
    "        if duration == \"0\":\n",
    "             return 0\n",
    "        state = individual[2*i+1]\n",
    "        phase.set(\"duration\", duration)#setting the duration of timer\n",
    "        phase.set(\"state\", state)#Setting the state(RYG) of light\n",
    "        i += 1\n",
    "\n",
    "    network.write(\"sumo/light.net.xml\")\n",
    "    \n",
    "    waitingTime = simulate('sumo')\n",
    "    \n",
    "    fitnesses.append(waitingTime)\n",
    "          \n",
    "    print(waitingTime, individual)\n",
    "    \n",
    "    return 1/waitingTime\n",
    "\n",
    "ga.fitness_function = fitness"
   ]
  },
  {
   "cell_type": "code",
   "execution_count": null,
   "metadata": {
    "id": "mf5W_-AWMwSK"
   },
   "outputs": [],
   "source": [
    "ga.run()"
   ]
  },
  {
   "cell_type": "code",
   "execution_count": null,
   "metadata": {
    "id": "mrXWyoZ5Myjq"
   },
   "outputs": [],
   "source": [
    "best = phenotype(ga.best_individual()[1])  \n",
    "#Print the best solution"
   ]
  },
  {
   "cell_type": "code",
   "execution_count": null,
   "metadata": {
    "id": "fkPt2hTbNCgo"
   },
   "outputs": [],
   "source": [
    "from statistics import mean, stdev\n",
    "import matplotlib.pyplot as plt\n",
    "import numpy as np\n",
    "\n",
    "generation_fitnesses = []\n",
    "elite_fitnesses = []  #Elite(Best) fitness values from 50 repetitions of the 1000-generation evolving-mechanism (EM) experiment operating with M1.  #minimum wt\n",
    "mean_fitnesses = []\n",
    "stdev_fitnesses = []\n",
    "\n",
    "for i in range(ga.generations):\n",
    "    generation_fitnesses.append(fitnesses[ga.population_size*i:(ga.population_size)*(i+1)])\n",
    "#Finding the best fitness(minimum),mean and standard deviation from the output of generations\n",
    "for i in range(ga.generations):\n",
    "    elite_fitnesses.append(min(generation_fitnesses[i]))#Best Fitness\n",
    "    mean_fitnesses.append(mean(generation_fitnesses[i]))\n",
    "    stdev_fitnesses.append(stdev(generation_fitnesses[i]))\n",
    "#Displaying fitness values    \n",
    "print(elite_fitnesses)\n",
    "print(mean_fitnesses)\n",
    "print(stdev_fitnesses)\n",
    "\n",
    "#Plotting\n",
    "plt.plot(fitnesses, label='Fitness')\n",
    "t = np.linspace(ga.population_size/2, (ga.population_size/2)*(2*ga.generations-1), ga.generations)\n",
    "plt.plot(t, elite_fitnesses,'bs', label='Elite Fitness')\n",
    "plt.plot(t, mean_fitnesses, 'ro', label='Mean Fitness')\n",
    "plt.plot(t, stdev_fitnesses, 'g*', label='Standard Deviation')\n",
    "plt.xlabel('Generation')\n",
    "plt.ylabel('Waiting Time')\n",
    "plt.legend()\n",
    "plt.show()"
   ]
  },
  {
   "cell_type": "code",
   "execution_count": null,
   "metadata": {
    "id": "O6XZLSWsN6pY"
   },
   "outputs": [],
   "source": [
    "# Best individual, after 10 generations each with a population of 20 individuals\n",
    "display(best)"
   ]
  },
  {
   "cell_type": "code",
   "execution_count": null,
   "metadata": {
    "id": "Rb3QTuyZODTR"
   },
   "outputs": [],
   "source": [
    "# Best so far, after 30 generations each with a population of 50 individuals\n",
    "best_so_far = [43, 'GGGrGgrGrgGGyyGGgGyy', 11, 'GgyGGyGyrgggrGGGGGrr', 38, 'GgGGgGrgyyGGgyygGryr', 78, 'yrrGgryyrrgGyGrGyggG']\n",
    "display(best_so_far)"
   ]
  }
 ],
 "metadata": {
  "colab": {
   "collapsed_sections": [],
   "provenance": []
  },
  "kernelspec": {
   "display_name": "Python 3",
   "language": "python",
   "name": "python3"
  },
  "language_info": {
   "codemirror_mode": {
    "name": "ipython",
    "version": 3
   },
   "file_extension": ".py",
   "mimetype": "text/x-python",
   "name": "python",
   "nbconvert_exporter": "python",
   "pygments_lexer": "ipython3",
   "version": "3.7.6"
  }
 },
 "nbformat": 4,
 "nbformat_minor": 1
}
